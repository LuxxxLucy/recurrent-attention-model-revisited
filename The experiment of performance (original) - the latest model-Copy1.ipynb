{
 "cells": [
  {
   "cell_type": "code",
   "execution_count": 1,
   "metadata": {
    "ExecuteTime": {
     "end_time": "2019-10-11T17:20:48.170896Z",
     "start_time": "2019-10-11T17:20:45.168099Z"
    }
   },
   "outputs": [],
   "source": [
    "%load_ext autoreload\n",
    "%autoreload 2\n",
    "import torch\n",
    "from trainer import Trainer\n",
    "from config import get_config\n",
    "from utils import prepare_dirs, save_config\n",
    "from data_loader import get_test_loader, get_train_valid_loader"
   ]
  },
  {
   "cell_type": "markdown",
   "metadata": {},
   "source": [
    "set config.best=False to load the latest model, instead of the best validation model."
   ]
  },
  {
   "cell_type": "code",
   "execution_count": 2,
   "metadata": {
    "ExecuteTime": {
     "end_time": "2019-10-11T17:20:48.230616Z",
     "start_time": "2019-10-11T17:20:48.174077Z"
    }
   },
   "outputs": [],
   "source": [
    "config, unparsed = get_config()\n",
    "config.is_train = False\n",
    "config.use_tensorboard = False\n",
    "config.best = False\n",
    "\n",
    "# config.std=0.03"
   ]
  },
  {
   "cell_type": "code",
   "execution_count": 27,
   "metadata": {
    "ExecuteTime": {
     "end_time": "2019-10-11T18:21:50.720734Z",
     "start_time": "2019-10-11T18:21:49.778673Z"
    }
   },
   "outputs": [
    {
     "name": "stdout",
     "output_type": "stream",
     "text": [
      "10000\n"
     ]
    }
   ],
   "source": [
    "# data_loader = get_test_loader(config.data_dir, config.batch_size,num=100,translate=config.use_translate)\n",
    "data_loader = get_test_loader(config.data_dir, config.batch_size,translate=config.use_translate)\n",
    "\n",
    "\n",
    "\n",
    "size=0\n",
    "for i, (x, y) in enumerate(data_loader):\n",
    "    size+= x.size()[0]\n",
    "print(size)"
   ]
  },
  {
   "cell_type": "code",
   "execution_count": 4,
   "metadata": {
    "ExecuteTime": {
     "end_time": "2019-10-11T17:20:49.279381Z",
     "start_time": "2019-10-11T17:20:49.210510Z"
    }
   },
   "outputs": [
    {
     "data": {
      "text/plain": [
       "10000"
      ]
     },
     "execution_count": 4,
     "metadata": {},
     "output_type": "execute_result"
    }
   ],
   "source": [
    "len(data_loader.sampler)"
   ]
  },
  {
   "cell_type": "code",
   "execution_count": 5,
   "metadata": {
    "ExecuteTime": {
     "end_time": "2019-10-11T17:20:58.249051Z",
     "start_time": "2019-10-11T17:20:49.283212Z"
    }
   },
   "outputs": [
    {
     "name": "stdout",
     "output_type": "stream",
     "text": [
      "[*] Number of model parameters: 212,347\n",
      "[*] Loading model from ./ckpt\n",
      "[*] Loaded ram_6_8x8_2_uncertainty_0_intrinsic_0_ckpt.pth.tar checkpoint @ epoch 100\n",
      "[*] Test Acc: 9812/10000 (98.00% - 2.00%)\n",
      "0.9812\n"
     ]
    }
   ],
   "source": [
    "# since is_train=False, it is in fact a \"tester\"\n",
    "tester = Trainer(config, data_loader)\n",
    "torch.manual_seed(config.random_seed)\n",
    "acc = tester.test()\n",
    "print(acc)"
   ]
  },
  {
   "cell_type": "code",
   "execution_count": 6,
   "metadata": {
    "ExecuteTime": {
     "end_time": "2019-10-11T17:20:58.324241Z",
     "start_time": "2019-10-11T17:20:58.252650Z"
    }
   },
   "outputs": [],
   "source": [
    "range_all=50\n",
    "M=10"
   ]
  },
  {
   "cell_type": "code",
   "execution_count": 7,
   "metadata": {
    "ExecuteTime": {
     "end_time": "2019-10-11T17:29:34.795706Z",
     "start_time": "2019-10-11T17:20:58.329446Z"
    }
   },
   "outputs": [
    {
     "name": "stderr",
     "output_type": "stream",
     "text": [
      "\r",
      "  0%|          | 0/313 [00:00<?, ?it/s]"
     ]
    },
    {
     "name": "stdout",
     "output_type": "stream",
     "text": [
      "[*] Number of model parameters: 212,347\n",
      "[*] Loading model from ./ckpt\n",
      "[*] Loaded ram_6_8x8_2_uncertainty_0_intrinsic_0_ckpt.pth.tar checkpoint @ epoch 100\n"
     ]
    },
    {
     "name": "stderr",
     "output_type": "stream",
     "text": [
      "100%|██████████| 313/313 [08:36<00:00,  1.34s/it]"
     ]
    },
    {
     "name": "stdout",
     "output_type": "stream",
     "text": [
      "(6, 0.9912)\n"
     ]
    },
    {
     "name": "stderr",
     "output_type": "stream",
     "text": [
      "\n"
     ]
    }
   ],
   "source": [
    "from copy import deepcopy \n",
    "\n",
    "from tqdm import tqdm_notebook as tqdm\n",
    "\n",
    "\n",
    "original_RAM = []\n",
    "new_config = deepcopy(config)\n",
    "new_config.M=M\n",
    "new_config.best=False\n",
    "tester = Trainer(new_config, data_loader)\n",
    "\n",
    "new_config.num_glimpses = range_all\n",
    "accs = tester.test_for_all(range_all=range_all)\n",
    "for i,acc in enumerate( accs ):\n",
    "    num_steps = i+1\n",
    "    original_RAM.append(  (num_steps,acc)  )\n",
    "print(original_RAM[5])"
   ]
  },
  {
   "cell_type": "code",
   "execution_count": 8,
   "metadata": {
    "ExecuteTime": {
     "end_time": "2019-10-11T17:29:35.198641Z",
     "start_time": "2019-10-11T17:29:34.800375Z"
    }
   },
   "outputs": [
    {
     "data": {
      "image/png": "[encoded data removed]",
      "text/plain": [
       "<Figure size 432x288 with 1 Axes>"
      ]
     },
     "metadata": {
      "needs_background": "light"
     },
     "output_type": "display_data"
    }
   ],
   "source": [
    "x1=[];y1=[]\n",
    "for t in zip(original_RAM):\n",
    "    x,y = t[0]\n",
    "    x1.append(x)\n",
    "    y1.append(y)\n",
    "#     print(t[0])\n",
    "\n",
    "import matplotlib.pyplot as plt\n",
    "plt.plot(x1,y1)\n",
    "plt.ylabel('some numbers')\n",
    "plt.show()"
   ]
  },
  {
   "cell_type": "code",
   "execution_count": 9,
   "metadata": {
    "ExecuteTime": {
     "end_time": "2019-10-11T17:35:57.761038Z",
     "start_time": "2019-10-11T17:29:35.202601Z"
    }
   },
   "outputs": [
    {
     "name": "stdout",
     "output_type": "stream",
     "text": [
      "[*] Number of model parameters: 212,347\n",
      "[*] Loading model from ./ckpt\n"
     ]
    },
    {
     "name": "stderr",
     "output_type": "stream",
     "text": [
      "\r",
      "  0%|          | 0/313 [00:00<?, ?it/s]"
     ]
    },
    {
     "name": "stdout",
     "output_type": "stream",
     "text": [
      "[*] Loaded ram_6_8x8_2_uncertainty_1_intrinsic_1_ckpt.pth.tar checkpoint @ epoch 100\n"
     ]
    },
    {
     "name": "stderr",
     "output_type": "stream",
     "text": [
      "100%|██████████| 313/313 [06:22<00:00,  1.03s/it]"
     ]
    },
    {
     "name": "stdout",
     "output_type": "stream",
     "text": [
      "(6, 0.9899)\n"
     ]
    },
    {
     "name": "stderr",
     "output_type": "stream",
     "text": [
      "\n"
     ]
    }
   ],
   "source": [
    "from copy import deepcopy \n",
    "\n",
    "v11_RAM = []\n",
    "new_config = deepcopy(config)\n",
    "new_config.uncertainty = True\n",
    "new_config.intrinsic = True\n",
    "new_config.M=M\n",
    "new_config.best=False\n",
    "tester = Trainer(new_config, data_loader)\n",
    "new_config.num_glimpses = range_all\n",
    "accs = tester.test_for_all(range_all=range_all)\n",
    "for i,acc in enumerate( accs ):\n",
    "    num_steps = i+1\n",
    "    v11_RAM.append(  (num_steps,acc)  )\n",
    "print(v11_RAM[5])"
   ]
  },
  {
   "cell_type": "code",
   "execution_count": 10,
   "metadata": {
    "ExecuteTime": {
     "end_time": "2019-10-11T17:35:58.025913Z",
     "start_time": "2019-10-11T17:35:57.767091Z"
    }
   },
   "outputs": [
    {
     "data": {
      "image/png": "[encoded data removed]",
      "text/plain": [
       "<Figure size 432x288 with 1 Axes>"
      ]
     },
     "metadata": {
      "needs_background": "light"
     },
     "output_type": "display_data"
    }
   ],
   "source": [
    "x1=[];y1=[]\n",
    "for t in zip(v11_RAM):\n",
    "    x,y = t[0]\n",
    "    x1.append(x)\n",
    "    y1.append(y)\n",
    "#     print(t[0])\n",
    "\n",
    "import matplotlib.pyplot as plt\n",
    "plt.plot(x1,y1)\n",
    "plt.ylabel('some numbers')\n",
    "plt.show()"
   ]
  },
  {
   "cell_type": "code",
   "execution_count": 28,
   "metadata": {
    "ExecuteTime": {
     "end_time": "2019-10-11T18:32:27.420549Z",
     "start_time": "2019-10-11T18:22:20.095583Z"
    }
   },
   "outputs": [
    {
     "name": "stdout",
     "output_type": "stream",
     "text": [
      "[*] Number of model parameters: 212,347\n"
     ]
    },
    {
     "data": {
      "application/vnd.jupyter.widget-view+json": {
       "model_id": "23d1faa1ace74c53b74afd932f3d98f0",
       "version_major": 2,
       "version_minor": 0
      },
      "text/plain": [
       "HBox(children=(IntProgress(value=0, max=6), HTML(value='')))"
      ]
     },
     "metadata": {},
     "output_type": "display_data"
    },
    {
     "name": "stdout",
     "output_type": "stream",
     "text": [
      "[*] Loading model from ./ckpt\n",
      "[*] Loaded ram_6_8x8_2_uncertainty_1_intrinsic_1_ckpt.pth.tar checkpoint @ epoch 100\n",
      "[*] Test Acc: 1157/10000 (11.00% - 89.00%)\n",
      "use dynamic\n",
      "(1.0, 0.1157)\n",
      "[*] Loading model from ./ckpt\n",
      "[*] Loaded ram_6_8x8_2_uncertainty_1_intrinsic_1_ckpt.pth.tar checkpoint @ epoch 100\n",
      "[*] Test Acc: 5314/10000 (53.00% - 47.00%)\n",
      "use dynamic\n",
      "(1.7606199999999999, 0.5314)\n",
      "[*] Loading model from ./ckpt\n",
      "[*] Loaded ram_6_8x8_2_uncertainty_1_intrinsic_1_ckpt.pth.tar checkpoint @ epoch 100\n",
      "[*] Test Acc: 9368/10000 (93.00% - 7.00%)\n",
      "use dynamic\n",
      "(3.18758, 0.9368)\n",
      "[*] Loading model from ./ckpt\n",
      "[*] Loaded ram_6_8x8_2_uncertainty_1_intrinsic_1_ckpt.pth.tar checkpoint @ epoch 100\n",
      "[*] Test Acc: 9792/10000 (97.00% - 3.00%)\n",
      "use dynamic\n",
      "(4.80767, 0.9792)\n",
      "[*] Loading model from ./ckpt\n",
      "[*] Loaded ram_6_8x8_2_uncertainty_1_intrinsic_1_ckpt.pth.tar checkpoint @ epoch 100\n",
      "[*] Test Acc: 9873/10000 (98.00% - 2.00%)\n",
      "use dynamic\n",
      "(8.98847, 0.9873)\n",
      "[*] Loading model from ./ckpt\n",
      "[*] Loaded ram_6_8x8_2_uncertainty_1_intrinsic_1_ckpt.pth.tar checkpoint @ epoch 100\n",
      "[*] Test Acc: 9747/10000 (97.00% - 3.00%)\n",
      "use dynamic\n",
      "(36.70485, 0.9747)\n",
      "\n"
     ]
    }
   ],
   "source": [
    "from copy import deepcopy \n",
    "\n",
    "from tqdm import tqdm_notebook as tqdm\n",
    "\n",
    "# l2 is enabled, l3 is enabled\n",
    "v11_dynamic_RAM = []\n",
    "\n",
    "new_config = deepcopy(config)\n",
    "new_config.uncertainty = True\n",
    "new_config.intrinsic = True\n",
    "new_config.M=M\n",
    "new_config.best=False\n",
    "tester = Trainer(new_config, data_loader)\n",
    "new_config.dynamic = True\n",
    "new_config.num_glimpses = range_all\n",
    "\n",
    "\n",
    "for exploration_rate in tqdm( [0,0.01,0.15,0.3,0.4,0.45] ):\n",
    "\n",
    "    # since is_train=False, it is in fact a \"tester\"\n",
    "    torch.manual_seed(config.random_seed)\n",
    "    tester.config.exploration_rate = exploration_rate\n",
    "    avg_num_glimpses,acc = tester.test()\n",
    "    print( (avg_num_glimpses,acc) )\n",
    "    v11_dynamic_RAM.append(  (avg_num_glimpses,acc)  )\n",
    "\n"
   ]
  },
  {
   "cell_type": "code",
   "execution_count": 12,
   "metadata": {
    "ExecuteTime": {
     "end_time": "2019-10-11T17:54:37.809232Z",
     "start_time": "2019-10-11T17:46:24.978272Z"
    }
   },
   "outputs": [
    {
     "name": "stderr",
     "output_type": "stream",
     "text": [
      "\r",
      "  0%|          | 0/313 [00:00<?, ?it/s]"
     ]
    },
    {
     "name": "stdout",
     "output_type": "stream",
     "text": [
      "[*] Number of model parameters: 212,347\n",
      "[*] Loading model from ./ckpt\n",
      "[*] Loaded ram_6_8x8_2_uncertainty_1_intrinsic_0_ckpt.pth.tar checkpoint @ epoch 100\n"
     ]
    },
    {
     "name": "stderr",
     "output_type": "stream",
     "text": [
      "100%|██████████| 313/313 [08:12<00:00,  1.35s/it]"
     ]
    },
    {
     "name": "stdout",
     "output_type": "stream",
     "text": [
      "(6, 0.9905)\n"
     ]
    },
    {
     "name": "stderr",
     "output_type": "stream",
     "text": [
      "\n"
     ]
    }
   ],
   "source": [
    "from copy import deepcopy \n",
    "\n",
    "from tqdm import tqdm_notebook as tqdm\n",
    "\n",
    "# only the uncertanity loss\n",
    "v10_RAM = []\n",
    "\n",
    "v10_RAM = []\n",
    "new_config = deepcopy(config)\n",
    "new_config.uncertainty = True\n",
    "new_config.intrinsic = False\n",
    "new_config.M=M\n",
    "new_config.best=False\n",
    "tester = Trainer(new_config, data_loader)\n",
    "new_config.num_glimpses = range_all\n",
    "accs = tester.test_for_all(range_all=range_all)\n",
    "for i,acc in enumerate( accs ):\n",
    "    num_steps = i+1\n",
    "    v10_RAM.append(  (num_steps,acc)  )\n",
    "print(v10_RAM[5])\n",
    "\n"
   ]
  },
  {
   "cell_type": "code",
   "execution_count": 13,
   "metadata": {
    "ExecuteTime": {
     "end_time": "2019-10-11T17:58:32.462635Z",
     "start_time": "2019-10-11T17:54:37.812614Z"
    }
   },
   "outputs": [
    {
     "name": "stdout",
     "output_type": "stream",
     "text": [
      "[*] Number of model parameters: 212,347\n"
     ]
    },
    {
     "data": {
      "application/vnd.jupyter.widget-view+json": {
       "model_id": "5357daaf11854d1fb5b695979da404c7",
       "version_major": 2,
       "version_minor": 0
      },
      "text/plain": [
       "HBox(children=(IntProgress(value=0, max=8), HTML(value='')))"
      ]
     },
     "metadata": {},
     "output_type": "display_data"
    },
    {
     "name": "stdout",
     "output_type": "stream",
     "text": [
      "[*] Loading model from ./ckpt\n",
      "[*] Loaded ram_6_8x8_2_uncertainty_1_intrinsic_0_ckpt.pth.tar checkpoint @ epoch 100\n",
      "[*] Test Acc: 958/10000 (9.00% - 91.00%)\n",
      "use dynamic\n",
      "(1.0, 0.0958)\n",
      "[*] Loading model from ./ckpt\n",
      "[*] Loaded ram_6_8x8_2_uncertainty_1_intrinsic_0_ckpt.pth.tar checkpoint @ epoch 100\n",
      "[*] Test Acc: 6714/10000 (67.00% - 33.00%)\n",
      "use dynamic\n",
      "(1.90409, 0.6714)\n",
      "[*] Loading model from ./ckpt\n",
      "[*] Loaded ram_6_8x8_2_uncertainty_1_intrinsic_0_ckpt.pth.tar checkpoint @ epoch 100\n",
      "[*] Test Acc: 7577/10000 (75.00% - 25.00%)\n",
      "use dynamic\n",
      "(2.16799, 0.7577)\n",
      "[*] Loading model from ./ckpt\n",
      "[*] Loaded ram_6_8x8_2_uncertainty_1_intrinsic_0_ckpt.pth.tar checkpoint @ epoch 100\n",
      "[*] Test Acc: 7986/10000 (79.00% - 21.00%)\n",
      "use dynamic\n",
      "(2.48448, 0.7986)\n",
      "[*] Loading model from ./ckpt\n",
      "[*] Loaded ram_6_8x8_2_uncertainty_1_intrinsic_0_ckpt.pth.tar checkpoint @ epoch 100\n",
      "[*] Test Acc: 9075/10000 (90.00% - 10.00%)\n",
      "use dynamic\n",
      "(2.89245, 0.9075)\n",
      "[*] Loading model from ./ckpt\n",
      "[*] Loaded ram_6_8x8_2_uncertainty_1_intrinsic_0_ckpt.pth.tar checkpoint @ epoch 100\n",
      "[*] Test Acc: 9588/10000 (95.00% - 5.00%)\n",
      "use dynamic\n",
      "(3.10372, 0.9588)\n",
      "[*] Loading model from ./ckpt\n",
      "[*] Loaded ram_6_8x8_2_uncertainty_1_intrinsic_0_ckpt.pth.tar checkpoint @ epoch 100\n",
      "[*] Test Acc: 9902/10000 (99.00% - 1.00%)\n",
      "use dynamic\n",
      "(5.65757, 0.9902)\n",
      "[*] Loading model from ./ckpt\n",
      "[*] Loaded ram_6_8x8_2_uncertainty_1_intrinsic_0_ckpt.pth.tar checkpoint @ epoch 100\n",
      "[*] Test Acc: 9908/10000 (99.00% - 1.00%)\n",
      "use dynamic\n",
      "(6.43495, 0.9908)\n",
      "\n"
     ]
    }
   ],
   "source": [
    "from copy import deepcopy \n",
    "\n",
    "from tqdm import tqdm_notebook as tqdm\n",
    "\n",
    "# l2 is enabled, l3 is not\n",
    "v10_dynamic_RAM = []\n",
    "\n",
    "new_config = deepcopy(config)\n",
    "new_config.uncertainty = True\n",
    "new_config.intrinsic = False\n",
    "new_config.M=M\n",
    "new_config.best=False\n",
    "tester = Trainer(new_config, data_loader)\n",
    "new_config.dynamic = True\n",
    "\n",
    "new_config.num_glimpses = range_all\n",
    "\n",
    "for exploration_rate in tqdm( [0,0.1,0.2,0.5,0.8,1,5,10] ):\n",
    "\n",
    "\n",
    "    # since is_train=False, it is in fact a \"tester\"\n",
    "    torch.manual_seed(config.random_seed)\n",
    "    tester.config.exploration_rate = exploration_rate\n",
    "    avg_num_glimpses,acc = tester.test()\n",
    "    print( (avg_num_glimpses,acc) )\n",
    "    v10_dynamic_RAM.append(  (avg_num_glimpses,acc)  )\n",
    "\n",
    "\n",
    "\n"
   ]
  },
  {
   "cell_type": "code",
   "execution_count": 31,
   "metadata": {
    "ExecuteTime": {
     "end_time": "2019-10-11T18:34:15.233303Z",
     "start_time": "2019-10-11T18:34:14.288372Z"
    }
   },
   "outputs": [
    {
     "name": "stdout",
     "output_type": "stream",
     "text": [
      "(6, 0.9912)\n",
      "(6, 0.9905)\n",
      "(6, 0.9899)\n"
     ]
    },
    {
     "data": {
      "image/png": "[encoded data removed]",
      "text/plain": [
       "<Figure size 432x288 with 1 Axes>"
      ]
     },
     "metadata": {
      "needs_background": "light"
     },
     "output_type": "display_data"
    }
   ],
   "source": [
    "import matplotlib.pyplot as plt\n",
    "import numpy as np\n",
    "x1=[];y1=[]\n",
    "for t in zip(original_RAM):\n",
    "    x,y = t[0]\n",
    "    x1.append(x)\n",
    "    y1.append(y)\n",
    "#     print(t[0])\n",
    "plt.plot(x1,y1,label=\"original RAM, non-dynamic\")\n",
    "print(original_RAM[5])\n",
    "\n",
    "x1=[];y1=[]\n",
    "for t in zip(v10_RAM):\n",
    "    x,y = t[0]\n",
    "    x1.append(x)\n",
    "    y1.append(y)\n",
    "#     print(t[0])\n",
    "\n",
    "plt.plot(x1,y1,\"y\",label=\"add only the uncertainty term, non-dynamic\")\n",
    "print(v10_RAM[5])\n",
    "\n",
    "x1=[];y1=[]\n",
    "for t in zip(v10_dynamic_RAM):\n",
    "    x,y = t[0]\n",
    "    x1.append(x)\n",
    "    y1.append(y)\n",
    "#     print(t[0])\n",
    "plt.plot(x1,y1,\"yv\",label=\"add only the uncertainty term, dynamic\",zorder=2)\n",
    "\n",
    "x1=[];y1=[]\n",
    "for t in zip(v11_RAM):\n",
    "    x,y = t[0]\n",
    "    x1.append(x)\n",
    "    y1.append(y)\n",
    "#     print(t[0])\n",
    "\n",
    "plt.plot(x1,y1,\"r\",label=\"both new terms, non-dynamic\")\n",
    "print(v11_RAM[5])\n",
    "x1=[];y1=[]\n",
    "for t in zip(v11_dynamic_RAM):\n",
    "    x,y = t[0]\n",
    "    x1.append(x)\n",
    "    y1.append(y)\n",
    "#     print(t[0])\n",
    "plt.plot(x1,y1,\"r*\",label=\"both new terms dynamic\",zorder=1)\n",
    "\n",
    "\n",
    "\n",
    "plt.xticks(np.arange(0, 50, 5))\n",
    "plt.xlim(1,50)\n",
    "# plt.ylim(0,1)\n",
    "plt.ylabel('test accuracy')\n",
    "plt.xlabel('number of glimpse')\n",
    "plt.legend(loc='center left', bbox_to_anchor=(0.05, 0.2))\n",
    "# plt.show()\n",
    "plt.savefig(\"test.png\", dpi=300)"
   ]
  },
  {
   "cell_type": "code",
   "execution_count": 15,
   "metadata": {
    "ExecuteTime": {
     "end_time": "2019-10-11T17:58:33.067261Z",
     "start_time": "2019-10-11T17:58:32.840724Z"
    }
   },
   "outputs": [
    {
     "name": "stdout",
     "output_type": "stream",
     "text": [
      "(1, 0.5749)\n",
      "(1, 0.0958)\n",
      "(1, 0.1157)\n"
     ]
    },
    {
     "data": {
      "image/png": "[encoded data removed]",
      "text/plain": [
       "<Figure size 432x288 with 1 Axes>"
      ]
     },
     "metadata": {
      "needs_background": "light"
     },
     "output_type": "display_data"
    }
   ],
   "source": [
    "import matplotlib.pyplot as plt\n",
    "import numpy as np\n",
    "x1=[];y1=[]\n",
    "for t in zip(original_RAM):\n",
    "    x,y = t[0]\n",
    "    x1.append(x)\n",
    "    y1.append(y)\n",
    "#     print(t[0])\n",
    "plt.plot(x1,y1,label=\"original RAM, non-dynamic\")\n",
    "print(original_RAM[0])\n",
    "\n",
    "x1=[];y1=[]\n",
    "for t in zip(v10_RAM):\n",
    "    x,y = t[0]\n",
    "    x1.append(x)\n",
    "    y1.append(y)\n",
    "#     print(t[0])\n",
    "\n",
    "plt.plot(x1,y1,\"y\",label=\"add only the uncertainty term, non-dynamic\")\n",
    "print(v10_RAM[0])\n",
    "\n",
    "x1=[];y1=[]\n",
    "for t in zip(v10_dynamic_RAM):\n",
    "    x,y = t[0]\n",
    "    x1.append(x)\n",
    "    y1.append(y)\n",
    "#     print(t[0])\n",
    "plt.plot(x1,y1,\"yv\",label=\"add only the uncertainty term, dynamic\",zorder=2)\n",
    "\n",
    "x1=[];y1=[]\n",
    "for t in zip(v11_RAM):\n",
    "    x,y = t[0]\n",
    "    x1.append(x)\n",
    "    y1.append(y)\n",
    "#     print(t[0])\n",
    "\n",
    "plt.plot(x1,y1,\"r\",label=\"both new terms, non-dynamic\")\n",
    "print(v11_RAM[0])\n",
    "x1=[];y1=[]\n",
    "for t in zip(v11_dynamic_RAM):\n",
    "    x,y = t[0]\n",
    "    x1.append(x)\n",
    "    y1.append(y)\n",
    "#     print(t[0])\n",
    "plt.plot(x1,y1,\"r*\",label=\"both new terms dynamic\",zorder=1)\n",
    "\n",
    "\n",
    "\n",
    "plt.xticks(np.arange(0, 10, 1))\n",
    "plt.xlim(1,6)\n",
    "plt.ylim(0.5,1)\n",
    "plt.ylabel('test accuracy')\n",
    "plt.xlabel('number of glimpse')\n",
    "# plt.xscale('log')\n",
    "plt.legend(loc='center left', bbox_to_anchor=(0.20, 0.2))\n",
    "plt.show()"
   ]
  },
  {
   "cell_type": "code",
   "execution_count": 16,
   "metadata": {
    "ExecuteTime": {
     "end_time": "2019-10-11T18:05:05.434223Z",
     "start_time": "2019-10-11T17:58:33.070557Z"
    }
   },
   "outputs": [
    {
     "name": "stderr",
     "output_type": "stream",
     "text": [
      "\r",
      "  0%|          | 0/313 [00:00<?, ?it/s]"
     ]
    },
    {
     "name": "stdout",
     "output_type": "stream",
     "text": [
      "[*] Number of model parameters: 212,347\n",
      "[*] Loading model from ./ckpt\n",
      "[*] Loaded ram_6_8x8_2_uncertainty_0_intrinsic_1_ckpt.pth.tar checkpoint @ epoch 100\n"
     ]
    },
    {
     "name": "stderr",
     "output_type": "stream",
     "text": [
      "100%|██████████| 313/313 [06:32<00:00,  1.12s/it]"
     ]
    },
    {
     "name": "stdout",
     "output_type": "stream",
     "text": [
      "(6, 0.9908)\n"
     ]
    },
    {
     "name": "stderr",
     "output_type": "stream",
     "text": [
      "\n"
     ]
    }
   ],
   "source": [
    "from copy import deepcopy \n",
    "\n",
    "from tqdm import tqdm_notebook as tqdm\n",
    "\n",
    "# only the intrinsic loss\n",
    "v01_RAM = []\n",
    "\n",
    "v01_RAM = []\n",
    "new_config = deepcopy(config)\n",
    "new_config.uncertainty = False\n",
    "new_config.intrinsic = True\n",
    "new_config.M=M\n",
    "new_config.best=False\n",
    "tester = Trainer(new_config, data_loader)\n",
    "new_config.num_glimpses = range_all\n",
    "accs = tester.test_for_all(range_all=range_all)\n",
    "for i,acc in enumerate( accs ):\n",
    "    num_steps = i+1\n",
    "    v01_RAM.append(  (num_steps,acc)  )\n",
    "print(v01_RAM[5])\n",
    "\n"
   ]
  },
  {
   "cell_type": "code",
   "execution_count": 17,
   "metadata": {
    "ExecuteTime": {
     "end_time": "2019-10-11T18:05:05.795124Z",
     "start_time": "2019-10-11T18:05:05.442051Z"
    }
   },
   "outputs": [
    {
     "name": "stdout",
     "output_type": "stream",
     "text": [
      "(1, 0.5749)\n",
      "(1, 0.0958)\n",
      "(1, 0.2694)\n",
      "(1, 0.1157)\n"
     ]
    },
    {
     "data": {
      "image/png": "[encoded data removed]",
      "text/plain": [
       "<Figure size 432x288 with 1 Axes>"
      ]
     },
     "metadata": {
      "needs_background": "light"
     },
     "output_type": "display_data"
    }
   ],
   "source": [
    "import matplotlib.pyplot as plt\n",
    "import numpy as np\n",
    "x1=[];y1=[]\n",
    "for t in zip(original_RAM):\n",
    "    x,y = t[0]\n",
    "    x1.append(x)\n",
    "    y1.append(y)\n",
    "#     print(t[0])\n",
    "plt.plot(x1,y1,label=\"original RAM, non-dynamic\")\n",
    "print(original_RAM[0])\n",
    "\n",
    "x1=[];y1=[]\n",
    "for t in zip(v10_RAM):\n",
    "    x,y = t[0]\n",
    "    x1.append(x)\n",
    "    y1.append(y)\n",
    "#     print(t[0])\n",
    "\n",
    "plt.plot(x1,y1,\"y\",label=\"add only the uncertainty term, non-dynamic\")\n",
    "print(v10_RAM[0])\n",
    "\n",
    "x1=[];y1=[]\n",
    "for t in zip(v10_dynamic_RAM):\n",
    "    x,y = t[0]\n",
    "    x1.append(x)\n",
    "    y1.append(y)\n",
    "#     print(t[0])\n",
    "plt.plot(x1,y1,\"yv\",label=\"add only the uncertainty term, dynamic\",zorder=2)\n",
    "\n",
    "x1=[];y1=[]\n",
    "for t in zip(v01_RAM):\n",
    "    x,y = t[0]\n",
    "    x1.append(x)\n",
    "    y1.append(y)\n",
    "#     print(t[0])\n",
    "\n",
    "plt.plot(x1,y1,\"g\",label=\"add only the intrinsic term, non-dynamic\")\n",
    "print(v01_RAM[0])\n",
    "\n",
    "\n",
    "x1=[];y1=[]\n",
    "for t in zip(v11_RAM):\n",
    "    x,y = t[0]\n",
    "    x1.append(x)\n",
    "    y1.append(y)\n",
    "#     print(t[0])\n",
    "\n",
    "plt.plot(x1,y1,\"r\",label=\"both new terms, non-dynamic\")\n",
    "print(v11_RAM[0])\n",
    "x1=[];y1=[]\n",
    "for t in zip(v11_dynamic_RAM):\n",
    "    x,y = t[0]\n",
    "    x1.append(x)\n",
    "    y1.append(y)\n",
    "#     print(t[0])\n",
    "plt.plot(x1,y1,\"r*\",label=\"both new terms dynamic\",zorder=1)\n",
    "\n",
    "\n",
    "\n",
    "plt.xticks(np.arange(0, 50, 5))\n",
    "# plt.xlim(1,6)\n",
    "plt.xlim(1,50)\n",
    "# plt.ylim(0.5,1)\n",
    "plt.ylabel('test accuracy')\n",
    "plt.xlabel('number of glimpse')\n",
    "# plt.xscale('log')\n",
    "plt.legend(loc='center left', bbox_to_anchor=(0.10, 0.3))\n",
    "plt.show()"
   ]
  },
  {
   "cell_type": "code",
   "execution_count": 18,
   "metadata": {
    "ExecuteTime": {
     "end_time": "2019-10-11T18:05:06.099267Z",
     "start_time": "2019-10-11T18:05:05.801451Z"
    }
   },
   "outputs": [
    {
     "name": "stdout",
     "output_type": "stream",
     "text": [
      "(6, 0.9912)\n",
      "(6, 0.9905)\n",
      "(6, 0.9908)\n",
      "(6, 0.9899)\n"
     ]
    },
    {
     "data": {
      "image/png": "[encoded data removed]",
      "text/plain": [
       "<Figure size 432x288 with 1 Axes>"
      ]
     },
     "metadata": {
      "needs_background": "light"
     },
     "output_type": "display_data"
    }
   ],
   "source": [
    "import matplotlib.pyplot as plt\n",
    "import numpy as np\n",
    "x1=[];y1=[]\n",
    "for t in zip(original_RAM):\n",
    "    x,y = t[0]\n",
    "    x1.append(x)\n",
    "    y1.append(y)\n",
    "#     print(t[0])\n",
    "plt.plot(x1,y1,label=\"original RAM, non-dynamic\")\n",
    "print(original_RAM[5])\n",
    "\n",
    "x1=[];y1=[]\n",
    "for t in zip(v10_RAM):\n",
    "    x,y = t[0]\n",
    "    x1.append(x)\n",
    "    y1.append(y)\n",
    "#     print(t[0])\n",
    "\n",
    "plt.plot(x1,y1,\"y\",label=\"add only the uncertainty term, non-dynamic\")\n",
    "print(v10_RAM[5])\n",
    "\n",
    "x1=[];y1=[]\n",
    "for t in zip(v10_dynamic_RAM):\n",
    "    x,y = t[0]\n",
    "    x1.append(x)\n",
    "    y1.append(y)\n",
    "#     print(t[0])\n",
    "plt.plot(x1,y1,\"yv\",label=\"add only the uncertainty term, dynamic\",zorder=2)\n",
    "\n",
    "x1=[];y1=[]\n",
    "for t in zip(v01_RAM):\n",
    "    x,y = t[0]\n",
    "    x1.append(x)\n",
    "    y1.append(y)\n",
    "#     print(t[0])\n",
    "\n",
    "plt.plot(x1,y1,\"g\",label=\"add only the intrinsic term, non-dynamic\")\n",
    "print(v01_RAM[5])\n",
    "\n",
    "\n",
    "x1=[];y1=[]\n",
    "for t in zip(v11_RAM):\n",
    "    x,y = t[0]\n",
    "    x1.append(x)\n",
    "    y1.append(y)\n",
    "#     print(t[0])\n",
    "\n",
    "plt.plot(x1,y1,\"r\",label=\"both new terms, non-dynamic\")\n",
    "print(v11_RAM[5])\n",
    "x1=[];y1=[]\n",
    "for t in zip(v11_dynamic_RAM):\n",
    "    x,y = t[0]\n",
    "    x1.append(x)\n",
    "    y1.append(y)\n",
    "#     print(t[0])\n",
    "plt.plot(x1,y1,\"r*\",label=\"both new terms dynamic\",zorder=1)\n",
    "\n",
    "\n",
    "\n",
    "plt.xticks(np.arange(0, 50, 5))\n",
    "plt.xlim(1,6)\n",
    "plt.xlim(4,10)\n",
    "plt.ylim(0.9,1)\n",
    "plt.ylabel('test accuracy')\n",
    "plt.xlabel('number of glimpse')\n",
    "# plt.xscale('log')\n",
    "plt.legend(loc='center left', bbox_to_anchor=(0.10, 0.3))\n",
    "plt.show()"
   ]
  },
  {
   "cell_type": "code",
   "execution_count": null,
   "metadata": {},
   "outputs": [],
   "source": []
  }
 ],
 "metadata": {
  "kernelspec": {
   "display_name": "Python 3",
   "language": "python",
   "name": "python3"
  },
  "language_info": {
   "codemirror_mode": {
    "name": "ipython",
    "version": 3
   },
   "file_extension": ".py",
   "mimetype": "text/x-python",
   "name": "python",
   "nbconvert_exporter": "python",
   "pygments_lexer": "ipython3",
   "version": "3.7.3"
  },
  "widgets": {
   "application/vnd.jupyter.widget-state+json": {
    "state": {
     "0016d62a1fe34cc29f3856598ea503df": {
      "model_module": "@jupyter-widgets/controls",
      "model_module_version": "1.5.0",
      "model_name": "ProgressStyleModel",
      "state": {
       "description_width": ""
      }
     },
     "005e5d0e85f64fafa0eb6551130b3615": {
      "model_module": "@jupyter-widgets/controls",
      "model_module_version": "1.5.0",
      "model_name": "HTMLModel",
      "state": {
       "layout": "IPY_MODEL_64e46dfc4a4c40e6924f0006fb875ef2",
       "style": "IPY_MODEL_f2d36472401d40a68df227a08e2588c9",
       "value": "100% 10/10 [00:01&lt;00:00,  7.58it/s]"
      }
     },
     "0167998ee11f40c39e4ec27b1668e613": {
      "model_module": "@jupyter-widgets/base",
      "model_module_version": "1.2.0",
      "model_name": "LayoutModel",
      "state": {}
     },
     "031b7d26a887446a80baaffaf6ce7c42": {
      "model_module": "@jupyter-widgets/base",
      "model_module_version": "1.2.0",
      "model_name": "LayoutModel",
      "state": {}
     },
     "04ca077792f94180ae9e24f5b6cd0164": {
      "model_module": "@jupyter-widgets/base",
      "model_module_version": "1.2.0",
      "model_name": "LayoutModel",
      "state": {}
     },
     "059bdf7062ae46cf8a2b98edc47d4ae5": {
      "model_module": "@jupyter-widgets/base",
      "model_module_version": "1.2.0",
      "model_name": "LayoutModel",
      "state": {}
     },
     "05ca40b43eae4bab9a2c60f6a01e72b4": {
      "model_module": "@jupyter-widgets/controls",
      "model_module_version": "1.5.0",
      "model_name": "ProgressStyleModel",
      "state": {
       "description_width": ""
      }
     },
     "05d6a05ae9e7454db4783fa4b019ace1": {
      "model_module": "@jupyter-widgets/controls",
      "model_module_version": "1.5.0",
      "model_name": "IntProgressModel",
      "state": {
       "bar_style": "success",
       "layout": "IPY_MODEL_e7739d9979dc431da366ace6bfaeb112",
       "max": 10,
       "style": "IPY_MODEL_8d4ef1b841144163967ea961049f5cf8",
       "value": 10
      }
     },
     "094e1dff816849ca9faff74c4b06237a": {
      "model_module": "@jupyter-widgets/controls",
      "model_module_version": "1.5.0",
      "model_name": "ProgressStyleModel",
      "state": {
       "description_width": ""
      }
     },
     "0bb657684b3242e896c183be772cbb86": {
      "model_module": "@jupyter-widgets/controls",
      "model_module_version": "1.5.0",
      "model_name": "DescriptionStyleModel",
      "state": {
       "description_width": ""
      }
     },
     "0c29a4bf376f43318e5615953505c0fe": {
      "model_module": "@jupyter-widgets/controls",
      "model_module_version": "1.5.0",
      "model_name": "IntProgressModel",
      "state": {
       "bar_style": "success",
       "layout": "IPY_MODEL_04ca077792f94180ae9e24f5b6cd0164",
       "max": 10,
       "style": "IPY_MODEL_e09a8211fd574015bb381d45ddde2455",
       "value": 10
      }
     },
     "0c572a6fca984a5888f9c6b97794b38c": {
      "model_module": "@jupyter-widgets/base",
      "model_module_version": "1.2.0",
      "model_name": "LayoutModel",
      "state": {}
     },
     "0d22b7010a104aa88ee9b8433decc418": {
      "model_module": "@jupyter-widgets/base",
      "model_module_version": "1.2.0",
      "model_name": "LayoutModel",
      "state": {}
     },
     "0d7e6ffb28384655ab6129d4cffa56ab": {
      "model_module": "@jupyter-widgets/controls",
      "model_module_version": "1.5.0",
      "model_name": "IntProgressModel",
      "state": {
       "bar_style": "success",
       "layout": "IPY_MODEL_be894000da8f421da2d17e2d9ecc4ae7",
       "max": 10,
       "style": "IPY_MODEL_dd0b9cf93b6d4df0bfa6a6ec1cf53583",
       "value": 10
      }
     },
     "0dc24cce485646bf926e9593a4a85eb1": {
      "model_module": "@jupyter-widgets/base",
      "model_module_version": "1.2.0",
      "model_name": "LayoutModel",
      "state": {}
     },
     "10452c783be043d18c14dd30284246a2": {
      "model_module": "@jupyter-widgets/base",
      "model_module_version": "1.2.0",
      "model_name": "LayoutModel",
      "state": {}
     },
     "10b31bb6c6914bb7867e5a480984887c": {
      "model_module": "@jupyter-widgets/controls",
      "model_module_version": "1.5.0",
      "model_name": "IntProgressModel",
      "state": {
       "bar_style": "danger",
       "layout": "IPY_MODEL_45a5a045a1cb469d9ab2a6370ef91393",
       "max": 10,
       "style": "IPY_MODEL_d4f10e2f485f4891913cc1d52c369db0",
       "value": 7
      }
     },
     "12f0c0db53fa43eeb0563b63e0ed2399": {
      "model_module": "@jupyter-widgets/base",
      "model_module_version": "1.2.0",
      "model_name": "LayoutModel",
      "state": {}
     },
     "13354667221e4144a695425358252630": {
      "model_module": "@jupyter-widgets/controls",
      "model_module_version": "1.5.0",
      "model_name": "ProgressStyleModel",
      "state": {
       "description_width": ""
      }
     },
     "14a3d912d7d44e209e9bc6fc168113c4": {
      "model_module": "@jupyter-widgets/base",
      "model_module_version": "1.2.0",
      "model_name": "LayoutModel",
      "state": {}
     },
     "14f5950904f64102ae423450f2c677bd": {
      "model_module": "@jupyter-widgets/base",
      "model_module_version": "1.2.0",
      "model_name": "LayoutModel",
      "state": {}
     },
     "151614ab6c014eab8168642993fa4da6": {
      "model_module": "@jupyter-widgets/controls",
      "model_module_version": "1.5.0",
      "model_name": "DescriptionStyleModel",
      "state": {
       "description_width": ""
      }
     },
     "153ae3b1b8154f56acb047dab5e25e86": {
      "model_module": "@jupyter-widgets/base",
      "model_module_version": "1.2.0",
      "model_name": "LayoutModel",
      "state": {}
     },
     "15e304c4b63d49e996ad226ff7648054": {
      "model_module": "@jupyter-widgets/base",
      "model_module_version": "1.2.0",
      "model_name": "LayoutModel",
      "state": {}
     },
     "198f4728daae45c5882e5a9949974c77": {
      "model_module": "@jupyter-widgets/base",
      "model_module_version": "1.2.0",
      "model_name": "LayoutModel",
      "state": {}
     },
     "1a1c23d3389f4cdc9185a61a00f86e85": {
      "model_module": "@jupyter-widgets/base",
      "model_module_version": "1.2.0",
      "model_name": "LayoutModel",
      "state": {}
     },
     "1aafb0215ee243139d97a0f98157970b": {
      "model_module": "@jupyter-widgets/controls",
      "model_module_version": "1.5.0",
      "model_name": "HBoxModel",
      "state": {
       "children": [
        "IPY_MODEL_ce6ef5fecdc44569944cdda66e81f8e7",
        "IPY_MODEL_b9830e5f5d6d49c187fdf364e68f8523"
       ],
       "layout": "IPY_MODEL_82298099db674d71a2d159b098b7da40"
      }
     },
     "2015638be04a4192b3fbe8ff1d3d67f8": {
      "model_module": "@jupyter-widgets/controls",
      "model_module_version": "1.5.0",
      "model_name": "HBoxModel",
      "state": {
       "children": [
        "IPY_MODEL_10b31bb6c6914bb7867e5a480984887c",
        "IPY_MODEL_a6ce0eae261c4703b70dd79178aa4522"
       ],
       "layout": "IPY_MODEL_f9938dbf4ac9457482d95bc7f443801d"
      }
     },
     "213df753eece4ee1a3e1dfda246c603a": {
      "model_module": "@jupyter-widgets/controls",
      "model_module_version": "1.5.0",
      "model_name": "IntProgressModel",
      "state": {
       "bar_style": "success",
       "layout": "IPY_MODEL_4c12c98a836c49399a957a9059061b96",
       "max": 6,
       "style": "IPY_MODEL_ec98c4e75b92472eaf168238ec0f9630",
       "value": 6
      }
     },
     "2257373fcb6a48319402c81e2d5b6913": {
      "model_module": "@jupyter-widgets/controls",
      "model_module_version": "1.5.0",
      "model_name": "HBoxModel",
      "state": {
       "children": [
        "IPY_MODEL_f7bbdcb5c08b44d1948f22cdb86b7228",
        "IPY_MODEL_ab51ec6deb4b448babcc45ef0ca3f64a"
       ],
       "layout": "IPY_MODEL_15e304c4b63d49e996ad226ff7648054"
      }
     },
     "23a6af75133a46519139f894a8d767b9": {
      "model_module": "@jupyter-widgets/controls",
      "model_module_version": "1.5.0",
      "model_name": "HTMLModel",
      "state": {
       "layout": "IPY_MODEL_4c3f299914664961baa7a11826030735",
       "style": "IPY_MODEL_62a0f2030416422a8d9172c1aa92c54e",
       "value": "100% 6/6 [00:04&lt;00:00,  1.34it/s]"
      }
     },
     "244940844d76428ab8bb6229c827d4f7": {
      "model_module": "@jupyter-widgets/base",
      "model_module_version": "1.2.0",
      "model_name": "LayoutModel",
      "state": {}
     },
     "248be6b629d44c7f9af1776b5c357e05": {
      "model_module": "@jupyter-widgets/base",
      "model_module_version": "1.2.0",
      "model_name": "LayoutModel",
      "state": {}
     },
     "248ca821b2c04db694b1131013f37898": {
      "model_module": "@jupyter-widgets/controls",
      "model_module_version": "1.5.0",
      "model_name": "HTMLModel",
      "state": {
       "layout": "IPY_MODEL_7ef36225c4b44def826d35f9d8b66b06",
       "style": "IPY_MODEL_35bdff13d4f54f0e884b32942ad8f85a",
       "value": "100% 10/10 [00:01&lt;00:00,  6.73it/s]"
      }
     },
     "248ed2185be54f18bc6de02e8521dbab": {
      "model_module": "@jupyter-widgets/controls",
      "model_module_version": "1.5.0",
      "model_name": "IntProgressModel",
      "state": {
       "bar_style": "success",
       "layout": "IPY_MODEL_198f4728daae45c5882e5a9949974c77",
       "max": 10,
       "style": "IPY_MODEL_7f8e1d439a054790ac205037a1fecfbd",
       "value": 10
      }
     },
     "254c80b11a2d429791be6bd0b59b1dde": {
      "model_module": "@jupyter-widgets/controls",
      "model_module_version": "1.5.0",
      "model_name": "HBoxModel",
      "state": {
       "children": [
        "IPY_MODEL_a97087680ee6499f9bafcd6a4b2a83e5",
        "IPY_MODEL_c7eb23bf21454e54b5a8084cbfee94f5"
       ],
       "layout": "IPY_MODEL_8af1fa139cf24377b97f4af35cd74871"
      }
     },
     "26c458d2888147e8888b6773881d3bce": {
      "model_module": "@jupyter-widgets/controls",
      "model_module_version": "1.5.0",
      "model_name": "DescriptionStyleModel",
      "state": {
       "description_width": ""
      }
     },
     "26d5103a9cd54e91bbbfe28cf1de9e96": {
      "model_module": "@jupyter-widgets/controls",
      "model_module_version": "1.5.0",
      "model_name": "HBoxModel",
      "state": {
       "children": [
        "IPY_MODEL_964a389cffa24643ab95069368d1ab90",
        "IPY_MODEL_565d31bdc7984ccd9fd105d1ca1ddd79"
       ],
       "layout": "IPY_MODEL_4206289b8f9347eba21af20954956066"
      }
     },
     "276887d04cd24d5f9592bcf4161e791d": {
      "model_module": "@jupyter-widgets/controls",
      "model_module_version": "1.5.0",
      "model_name": "IntProgressModel",
      "state": {
       "bar_style": "success",
       "layout": "IPY_MODEL_e99cc1b7a4754a8dab97e5a9ffecf4ec",
       "max": 10,
       "style": "IPY_MODEL_ae1c3601a11641b48666616d96d84133",
       "value": 10
      }
     },
     "278c6b56ea1947dbb6dc0c8c4f5fa4a3": {
      "model_module": "@jupyter-widgets/base",
      "model_module_version": "1.2.0",
      "model_name": "LayoutModel",
      "state": {}
     },
     "27ff14d9ecf74da2ae6f09bc7d7c6f35": {
      "model_module": "@jupyter-widgets/controls",
      "model_module_version": "1.5.0",
      "model_name": "HBoxModel",
      "state": {
       "children": [
        "IPY_MODEL_89408d092f294ec099d1faf015c6f6c3",
        "IPY_MODEL_cbd7f49feb7d444f9693feedc6401929"
       ],
       "layout": "IPY_MODEL_4b0e3601049b48eda9e0dfac49989ef8"
      }
     },
     "29e13041e7d7417ca507ff4064590a99": {
      "model_module": "@jupyter-widgets/controls",
      "model_module_version": "1.5.0",
      "model_name": "DescriptionStyleModel",
      "state": {
       "description_width": ""
      }
     },
     "2b962187a3a647a28979b62a2757a08c": {
      "model_module": "@jupyter-widgets/base",
      "model_module_version": "1.2.0",
      "model_name": "LayoutModel",
      "state": {}
     },
     "2bc10c43956349e5a1000ce82beedfc8": {
      "model_module": "@jupyter-widgets/base",
      "model_module_version": "1.2.0",
      "model_name": "LayoutModel",
      "state": {}
     },
     "2bd235d177704b52b89dbd0a52534d0b": {
      "model_module": "@jupyter-widgets/controls",
      "model_module_version": "1.5.0",
      "model_name": "IntProgressModel",
      "state": {
       "bar_style": "danger",
       "layout": "IPY_MODEL_ea5042c4dbb64c30b08dbd21747d8601",
       "max": 7,
       "style": "IPY_MODEL_05ca40b43eae4bab9a2c60f6a01e72b4",
       "value": 3
      }
     },
     "2c3d802e0f3b4f6dbf9a5fdfe8047c1e": {
      "model_module": "@jupyter-widgets/controls",
      "model_module_version": "1.5.0",
      "model_name": "ProgressStyleModel",
      "state": {
       "description_width": ""
      }
     },
     "2ddc6b713a744b62af65c8249cd95bc0": {
      "model_module": "@jupyter-widgets/controls",
      "model_module_version": "1.5.0",
      "model_name": "HBoxModel",
      "state": {
       "children": [
        "IPY_MODEL_76f800c25dbb4198942c7c082734c88f",
        "IPY_MODEL_a89fc92942664ab5b3a8476aa1bfea13"
       ],
       "layout": "IPY_MODEL_dae99990c9754c79b14dcddd9633720f"
      }
     },
     "2e72e285d63c40768136b244d3b5c85d": {
      "model_module": "@jupyter-widgets/controls",
      "model_module_version": "1.5.0",
      "model_name": "DescriptionStyleModel",
      "state": {
       "description_width": ""
      }
     },
     "30b03d51cded4419b74f48c7c7e9b02c": {
      "model_module": "@jupyter-widgets/base",
      "model_module_version": "1.2.0",
      "model_name": "LayoutModel",
      "state": {}
     },
     "339ac15be12545bdad4966a9af971502": {
      "model_module": "@jupyter-widgets/controls",
      "model_module_version": "1.5.0",
      "model_name": "DescriptionStyleModel",
      "state": {
       "description_width": ""
      }
     },
     "33f4695f8e1d4306a9795f4cf6619011": {
      "model_module": "@jupyter-widgets/controls",
      "model_module_version": "1.5.0",
      "model_name": "HTMLModel",
      "state": {
       "layout": "IPY_MODEL_cd73a5758d9b40aa9196a583edff6a2d",
       "style": "IPY_MODEL_aa6f350d3b0c491fbac6ddeaa04ea5bb",
       "value": "100% 10/10 [00:01&lt;00:00,  8.98it/s]"
      }
     },
     "3580a57778bd433ab4531edae820219f": {
      "model_module": "@jupyter-widgets/controls",
      "model_module_version": "1.5.0",
      "model_name": "DescriptionStyleModel",
      "state": {
       "description_width": ""
      }
     },
     "359c69506cb84fe2b73d671bcbd4c113": {
      "model_module": "@jupyter-widgets/controls",
      "model_module_version": "1.5.0",
      "model_name": "HBoxModel",
      "state": {
       "children": [
        "IPY_MODEL_f02142aef0bf4a31ad5e8808ca4a3c4d",
        "IPY_MODEL_5bb1952cdb0745a994d46546859d8442"
       ],
       "layout": "IPY_MODEL_738bca43fdf34cbd934e7b429e447e82"
      }
     },
     "35bdff13d4f54f0e884b32942ad8f85a": {
      "model_module": "@jupyter-widgets/controls",
      "model_module_version": "1.5.0",
      "model_name": "DescriptionStyleModel",
      "state": {
       "description_width": ""
      }
     },
     "374a15af452341d89e7e5d4d530afdd4": {
      "model_module": "@jupyter-widgets/controls",
      "model_module_version": "1.5.0",
      "model_name": "IntProgressModel",
      "state": {
       "bar_style": "danger",
       "layout": "IPY_MODEL_059bdf7062ae46cf8a2b98edc47d4ae5",
       "max": 10,
       "style": "IPY_MODEL_e1dce80901c745339c745486ea8fe230",
       "value": 4
      }
     },
     "3ce5ddd008a445498b2b7454bd69e747": {
      "model_module": "@jupyter-widgets/base",
      "model_module_version": "1.2.0",
      "model_name": "LayoutModel",
      "state": {}
     },
     "3d49d8606e2147a29c4c071842ccd347": {
      "model_module": "@jupyter-widgets/base",
      "model_module_version": "1.2.0",
      "model_name": "LayoutModel",
      "state": {}
     },
     "3de3a796108743ac90ca948c0f456435": {
      "model_module": "@jupyter-widgets/controls",
      "model_module_version": "1.5.0",
      "model_name": "HBoxModel",
      "state": {
       "children": [
        "IPY_MODEL_d4b7e94ff50142948452c81d30514985",
        "IPY_MODEL_d91a11461a084e3ba66fc495849ade10"
       ],
       "layout": "IPY_MODEL_a192ad81c9ae47aab433093f4fb0abcf"
      }
     },
     "3e98f1ff8e6e43e9bd4ac7374f4417e5": {
      "model_module": "@jupyter-widgets/base",
      "model_module_version": "1.2.0",
      "model_name": "LayoutModel",
      "state": {}
     },
     "3f08a8f3877942e196648cdae7c5276f": {
      "model_module": "@jupyter-widgets/controls",
      "model_module_version": "1.5.0",
      "model_name": "HTMLModel",
      "state": {
       "layout": "IPY_MODEL_83e3e794b3884c2c917d13cfae8a35f8",
       "style": "IPY_MODEL_4450168291634d0a81a80777627db5c0",
       "value": " 70% 7/10 [02:43&lt;01:42, 34.27s/it]"
      }
     },
     "3f104d10712f4f14beb89e90d5fe6ba7": {
      "model_module": "@jupyter-widgets/base",
      "model_module_version": "1.2.0",
      "model_name": "LayoutModel",
      "state": {}
     },
     "40796ce6eb02424da2f0be0ead8a2a51": {
      "model_module": "@jupyter-widgets/controls",
      "model_module_version": "1.5.0",
      "model_name": "ProgressStyleModel",
      "state": {
       "description_width": ""
      }
     },
     "4206289b8f9347eba21af20954956066": {
      "model_module": "@jupyter-widgets/base",
      "model_module_version": "1.2.0",
      "model_name": "LayoutModel",
      "state": {}
     },
     "4450168291634d0a81a80777627db5c0": {
      "model_module": "@jupyter-widgets/controls",
      "model_module_version": "1.5.0",
      "model_name": "DescriptionStyleModel",
      "state": {
       "description_width": ""
      }
     },
     "45a5a045a1cb469d9ab2a6370ef91393": {
      "model_module": "@jupyter-widgets/base",
      "model_module_version": "1.2.0",
      "model_name": "LayoutModel",
      "state": {}
     },
     "45bc260e8faf4a65a0accfcb598e3d32": {
      "model_module": "@jupyter-widgets/controls",
      "model_module_version": "1.5.0",
      "model_name": "ProgressStyleModel",
      "state": {
       "description_width": ""
      }
     },
     "479b2c5213004b788d698f50e11df5e9": {
      "model_module": "@jupyter-widgets/base",
      "model_module_version": "1.2.0",
      "model_name": "LayoutModel",
      "state": {}
     },
     "47bacbcfbbe84e089e351f9c8d3c29e0": {
      "model_module": "@jupyter-widgets/base",
      "model_module_version": "1.2.0",
      "model_name": "LayoutModel",
      "state": {}
     },
     "48553bd7b5cb4139b353c1327d266fa7": {
      "model_module": "@jupyter-widgets/controls",
      "model_module_version": "1.5.0",
      "model_name": "ProgressStyleModel",
      "state": {
       "description_width": ""
      }
     },
     "4a16dc0bcaea42db8c99125e07af2d3d": {
      "model_module": "@jupyter-widgets/base",
      "model_module_version": "1.2.0",
      "model_name": "LayoutModel",
      "state": {}
     },
     "4b0e3601049b48eda9e0dfac49989ef8": {
      "model_module": "@jupyter-widgets/base",
      "model_module_version": "1.2.0",
      "model_name": "LayoutModel",
      "state": {}
     },
     "4b0e4d8845ad413c98c7f79c9bd7b0df": {
      "model_module": "@jupyter-widgets/base",
      "model_module_version": "1.2.0",
      "model_name": "LayoutModel",
      "state": {}
     },
     "4c12c98a836c49399a957a9059061b96": {
      "model_module": "@jupyter-widgets/base",
      "model_module_version": "1.2.0",
      "model_name": "LayoutModel",
      "state": {}
     },
     "4c3f299914664961baa7a11826030735": {
      "model_module": "@jupyter-widgets/base",
      "model_module_version": "1.2.0",
      "model_name": "LayoutModel",
      "state": {}
     },
     "4cdfdaea9a834799b2a92e6dc1f4c990": {
      "model_module": "@jupyter-widgets/controls",
      "model_module_version": "1.5.0",
      "model_name": "HBoxModel",
      "state": {
       "children": [
        "IPY_MODEL_248ed2185be54f18bc6de02e8521dbab",
        "IPY_MODEL_af5c948bdf99499881986dc4a2329838"
       ],
       "layout": "IPY_MODEL_e88ed76162204f079604a4c4763a57c0"
      }
     },
     "4dbdd987a62545a0be56c2026b74f594": {
      "model_module": "@jupyter-widgets/controls",
      "model_module_version": "1.5.0",
      "model_name": "HBoxModel",
      "state": {
       "children": [
        "IPY_MODEL_d14cd9a44f6741fea9eef3c95b78625d",
        "IPY_MODEL_23a6af75133a46519139f894a8d767b9"
       ],
       "layout": "IPY_MODEL_30b03d51cded4419b74f48c7c7e9b02c"
      }
     },
     "503a89b4eb3a418e9f75c58720ae1b00": {
      "model_module": "@jupyter-widgets/controls",
      "model_module_version": "1.5.0",
      "model_name": "HBoxModel",
      "state": {
       "children": [
        "IPY_MODEL_2bd235d177704b52b89dbd0a52534d0b",
        "IPY_MODEL_b8d6cfc309fe44cd873d8ef2c16d738e"
       ],
       "layout": "IPY_MODEL_828abbc2baf04d58b86b3f2896a66398"
      }
     },
     "52fea7352e9e41dc88ea92581ed7712e": {
      "model_module": "@jupyter-widgets/controls",
      "model_module_version": "1.5.0",
      "model_name": "HTMLModel",
      "state": {
       "layout": "IPY_MODEL_3d49d8606e2147a29c4c071842ccd347",
       "style": "IPY_MODEL_339ac15be12545bdad4966a9af971502",
       "value": " 40% 4/10 [00:12&lt;00:18,  3.08s/it]"
      }
     },
     "538366fcaa4a48d6a4d6dc8500c4466a": {
      "model_module": "@jupyter-widgets/base",
      "model_module_version": "1.2.0",
      "model_name": "LayoutModel",
      "state": {}
     },
     "53e3237ae3d34b5c9f203a04e5fe0d00": {
      "model_module": "@jupyter-widgets/controls",
      "model_module_version": "1.5.0",
      "model_name": "HTMLModel",
      "state": {
       "layout": "IPY_MODEL_f335a2a1b36c4fb9ae298c5bae1b2fee",
       "style": "IPY_MODEL_e73a9d1ee89e40119c9c3d9725e07756",
       "value": "100% 10/10 [00:34&lt;00:00,  4.65s/it]"
      }
     },
     "548e6d06249145c5b02ff3184bf864bd": {
      "model_module": "@jupyter-widgets/controls",
      "model_module_version": "1.5.0",
      "model_name": "ProgressStyleModel",
      "state": {
       "description_width": ""
      }
     },
     "5541acf01ee5492487d14f9bbb152f87": {
      "model_module": "@jupyter-widgets/controls",
      "model_module_version": "1.5.0",
      "model_name": "ProgressStyleModel",
      "state": {
       "description_width": ""
      }
     },
     "565d31bdc7984ccd9fd105d1ca1ddd79": {
      "model_module": "@jupyter-widgets/controls",
      "model_module_version": "1.5.0",
      "model_name": "HTMLModel",
      "state": {
       "layout": "IPY_MODEL_60547b78e5df4e4dbcc627dac10c4c45",
       "style": "IPY_MODEL_2e72e285d63c40768136b244d3b5c85d",
       "value": "100% 10/10 [00:10&lt;00:00,  1.72s/it]"
      }
     },
     "575f3a09f92749cfbdab294c2fd21bfc": {
      "model_module": "@jupyter-widgets/base",
      "model_module_version": "1.2.0",
      "model_name": "LayoutModel",
      "state": {}
     },
     "58ba8f1c6d9e4774b57830f55da8a9e1": {
      "model_module": "@jupyter-widgets/base",
      "model_module_version": "1.2.0",
      "model_name": "LayoutModel",
      "state": {}
     },
     "58f029f90555498697991d591a8d9fd5": {
      "model_module": "@jupyter-widgets/controls",
      "model_module_version": "1.5.0",
      "model_name": "HTMLModel",
      "state": {
       "layout": "IPY_MODEL_d834752cd62e4cae9bb8d3013943f3a2",
       "style": "IPY_MODEL_cfe38ba2f2374350b59c8aac4442497f",
       "value": "100% 10/10 [00:03&lt;00:00,  2.02it/s]"
      }
     },
     "5bb1952cdb0745a994d46546859d8442": {
      "model_module": "@jupyter-widgets/controls",
      "model_module_version": "1.5.0",
      "model_name": "HTMLModel",
      "state": {
       "layout": "IPY_MODEL_71a412cd83394e5bb8d2378376798f69",
       "style": "IPY_MODEL_9ef1e0f69f2c46888794cfe84c3eb989",
       "value": "100% 10/10 [07:58&lt;00:00, 83.42s/it]"
      }
     },
     "5c23add5f25d483f86089cb45cb0ef5c": {
      "model_module": "@jupyter-widgets/controls",
      "model_module_version": "1.5.0",
      "model_name": "DescriptionStyleModel",
      "state": {
       "description_width": ""
      }
     },
     "5ce869440d7c44d4b6a3958c58eae8ed": {
      "model_module": "@jupyter-widgets/controls",
      "model_module_version": "1.5.0",
      "model_name": "HBoxModel",
      "state": {
       "children": [
        "IPY_MODEL_0d7e6ffb28384655ab6129d4cffa56ab",
        "IPY_MODEL_cae399f69e654949ae13403cc33c0238"
       ],
       "layout": "IPY_MODEL_c7fe6d63720e449bae3ee9a97d288e9e"
      }
     },
     "5db215d0ced14e80b753b387d983fd26": {
      "model_module": "@jupyter-widgets/controls",
      "model_module_version": "1.5.0",
      "model_name": "HBoxModel",
      "state": {
       "children": [
        "IPY_MODEL_d81d6554f2114ca0a057cd1d40f8835e",
        "IPY_MODEL_e106b6667559465daf5ca29e5c5d1c9d"
       ],
       "layout": "IPY_MODEL_655af0cdbab942bdad099f2f5781ef83"
      }
     },
     "60547b78e5df4e4dbcc627dac10c4c45": {
      "model_module": "@jupyter-widgets/base",
      "model_module_version": "1.2.0",
      "model_name": "LayoutModel",
      "state": {}
     },
     "62a0f2030416422a8d9172c1aa92c54e": {
      "model_module": "@jupyter-widgets/controls",
      "model_module_version": "1.5.0",
      "model_name": "DescriptionStyleModel",
      "state": {
       "description_width": ""
      }
     },
     "63ea9b88b6a841acaf81bb60656d63c9": {
      "model_module": "@jupyter-widgets/base",
      "model_module_version": "1.2.0",
      "model_name": "LayoutModel",
      "state": {}
     },
     "64e46dfc4a4c40e6924f0006fb875ef2": {
      "model_module": "@jupyter-widgets/base",
      "model_module_version": "1.2.0",
      "model_name": "LayoutModel",
      "state": {}
     },
     "655af0cdbab942bdad099f2f5781ef83": {
      "model_module": "@jupyter-widgets/base",
      "model_module_version": "1.2.0",
      "model_name": "LayoutModel",
      "state": {}
     },
     "66e46bf08a6e42fd9cc9c8b5bce5925a": {
      "model_module": "@jupyter-widgets/base",
      "model_module_version": "1.2.0",
      "model_name": "LayoutModel",
      "state": {}
     },
     "688c7068b70544ad825bf25f79122833": {
      "model_module": "@jupyter-widgets/base",
      "model_module_version": "1.2.0",
      "model_name": "LayoutModel",
      "state": {}
     },
     "6c826c0614ed4dfca3e81592135dd52e": {
      "model_module": "@jupyter-widgets/controls",
      "model_module_version": "1.5.0",
      "model_name": "DescriptionStyleModel",
      "state": {
       "description_width": ""
      }
     },
     "709130cc187641448a24f8bc94072555": {
      "model_module": "@jupyter-widgets/controls",
      "model_module_version": "1.5.0",
      "model_name": "HBoxModel",
      "state": {
       "children": [
        "IPY_MODEL_800d391f9868499cb5d2b1f300ed3420",
        "IPY_MODEL_248ca821b2c04db694b1131013f37898"
       ],
       "layout": "IPY_MODEL_c4d0a9b6a437497cbf7259313636ce38"
      }
     },
     "709d66aff8604c1eaf37baed426c4555": {
      "model_module": "@jupyter-widgets/controls",
      "model_module_version": "1.5.0",
      "model_name": "HTMLModel",
      "state": {
       "layout": "IPY_MODEL_12f0c0db53fa43eeb0563b63e0ed2399",
       "style": "IPY_MODEL_d98630fcf42a472da4021ea7462e064a",
       "value": "100% 10/10 [00:01&lt;00:00,  5.30it/s]"
      }
     },
     "719256fd052146af9cac304894d3d386": {
      "model_module": "@jupyter-widgets/base",
      "model_module_version": "1.2.0",
      "model_name": "LayoutModel",
      "state": {}
     },
     "71a412cd83394e5bb8d2378376798f69": {
      "model_module": "@jupyter-widgets/base",
      "model_module_version": "1.2.0",
      "model_name": "LayoutModel",
      "state": {}
     },
     "71dcd793bcf54bd58bc2ef0af0064254": {
      "model_module": "@jupyter-widgets/base",
      "model_module_version": "1.2.0",
      "model_name": "LayoutModel",
      "state": {}
     },
     "7338096af56f4f1684b91eb4f121335a": {
      "model_module": "@jupyter-widgets/base",
      "model_module_version": "1.2.0",
      "model_name": "LayoutModel",
      "state": {}
     },
     "738bca43fdf34cbd934e7b429e447e82": {
      "model_module": "@jupyter-widgets/base",
      "model_module_version": "1.2.0",
      "model_name": "LayoutModel",
      "state": {}
     },
     "748d90054e9c41019fafc771ee333e02": {
      "model_module": "@jupyter-widgets/base",
      "model_module_version": "1.2.0",
      "model_name": "LayoutModel",
      "state": {}
     },
     "74b6f5e2f7f64b49adabeb0483b25ab2": {
      "model_module": "@jupyter-widgets/controls",
      "model_module_version": "1.5.0",
      "model_name": "IntProgressModel",
      "state": {
       "bar_style": "danger",
       "layout": "IPY_MODEL_7f3d28aa8c744dafac1d751523546c56",
       "max": 6,
       "style": "IPY_MODEL_094e1dff816849ca9faff74c4b06237a",
       "value": 3
      }
     },
     "760243acf6b8409cadd2f018017adf65": {
      "model_module": "@jupyter-widgets/controls",
      "model_module_version": "1.5.0",
      "model_name": "HBoxModel",
      "state": {
       "children": [
        "IPY_MODEL_a1b32c6dd2bf49bbba8c9cf5c382dcd6",
        "IPY_MODEL_9812a9c72e6241f1acf25b3a84647aea"
       ],
       "layout": "IPY_MODEL_575f3a09f92749cfbdab294c2fd21bfc"
      }
     },
     "76f800c25dbb4198942c7c082734c88f": {
      "model_module": "@jupyter-widgets/controls",
      "model_module_version": "1.5.0",
      "model_name": "IntProgressModel",
      "state": {
       "bar_style": "success",
       "layout": "IPY_MODEL_da9df59e31fe492db65a6b7f09eb47a0",
       "max": 6,
       "style": "IPY_MODEL_a9f59dbe2f5c447bb8f01e6654821b10",
       "value": 6
      }
     },
     "7a51d821dfba4986b1f66b75231ec5a6": {
      "model_module": "@jupyter-widgets/controls",
      "model_module_version": "1.5.0",
      "model_name": "HBoxModel",
      "state": {
       "children": [
        "IPY_MODEL_b51dbede4d1748d9aa547a2bc7bf62a1",
        "IPY_MODEL_d7fdbd26a27c4251b2e6340fbd7c7d6d"
       ],
       "layout": "IPY_MODEL_0dc24cce485646bf926e9593a4a85eb1"
      }
     },
     "7de961ca64b34113b22251ed9372370b": {
      "model_module": "@jupyter-widgets/controls",
      "model_module_version": "1.5.0",
      "model_name": "ProgressStyleModel",
      "state": {
       "description_width": ""
      }
     },
     "7ef36225c4b44def826d35f9d8b66b06": {
      "model_module": "@jupyter-widgets/base",
      "model_module_version": "1.2.0",
      "model_name": "LayoutModel",
      "state": {}
     },
     "7f3d28aa8c744dafac1d751523546c56": {
      "model_module": "@jupyter-widgets/base",
      "model_module_version": "1.2.0",
      "model_name": "LayoutModel",
      "state": {}
     },
     "7f5e62f00dae4d71a074cb7718134e92": {
      "model_module": "@jupyter-widgets/base",
      "model_module_version": "1.2.0",
      "model_name": "LayoutModel",
      "state": {}
     },
     "7f8e1d439a054790ac205037a1fecfbd": {
      "model_module": "@jupyter-widgets/controls",
      "model_module_version": "1.5.0",
      "model_name": "ProgressStyleModel",
      "state": {
       "description_width": ""
      }
     },
     "800d391f9868499cb5d2b1f300ed3420": {
      "model_module": "@jupyter-widgets/controls",
      "model_module_version": "1.5.0",
      "model_name": "IntProgressModel",
      "state": {
       "bar_style": "success",
       "layout": "IPY_MODEL_2bc10c43956349e5a1000ce82beedfc8",
       "max": 10,
       "style": "IPY_MODEL_ad8a035274a545ebb96953afdf209e34",
       "value": 10
      }
     },
     "80e9a7510aad4f6cb5f728ec706ff857": {
      "model_module": "@jupyter-widgets/controls",
      "model_module_version": "1.5.0",
      "model_name": "DescriptionStyleModel",
      "state": {
       "description_width": ""
      }
     },
     "82298099db674d71a2d159b098b7da40": {
      "model_module": "@jupyter-widgets/base",
      "model_module_version": "1.2.0",
      "model_name": "LayoutModel",
      "state": {}
     },
     "827d1a3d1df04197b5defc47c30e5c26": {
      "model_module": "@jupyter-widgets/controls",
      "model_module_version": "1.5.0",
      "model_name": "ProgressStyleModel",
      "state": {
       "description_width": ""
      }
     },
     "828abbc2baf04d58b86b3f2896a66398": {
      "model_module": "@jupyter-widgets/base",
      "model_module_version": "1.2.0",
      "model_name": "LayoutModel",
      "state": {}
     },
     "834f78f914d84ebf8b744859c30677f6": {
      "model_module": "@jupyter-widgets/controls",
      "model_module_version": "1.5.0",
      "model_name": "HTMLModel",
      "state": {
       "layout": "IPY_MODEL_4b0e4d8845ad413c98c7f79c9bd7b0df",
       "style": "IPY_MODEL_9dfb00ac59024a01a3fbcbc2abbf79dd",
       "value": "100% 10/10 [00:03&lt;00:00,  2.12it/s]"
      }
     },
     "83e3e794b3884c2c917d13cfae8a35f8": {
      "model_module": "@jupyter-widgets/base",
      "model_module_version": "1.2.0",
      "model_name": "LayoutModel",
      "state": {}
     },
     "87ce19af3e6b436e8b1b583987e37b5a": {
      "model_module": "@jupyter-widgets/controls",
      "model_module_version": "1.5.0",
      "model_name": "IntProgressModel",
      "state": {
       "bar_style": "success",
       "layout": "IPY_MODEL_dc504ae10b5342099f2d6635cd10b3b3",
       "max": 10,
       "style": "IPY_MODEL_9d1f34992ee44e7e8dc1854ef3115b2a",
       "value": 10
      }
     },
     "882d2ea4ecf943b3ab50b1ce656c6aad": {
      "model_module": "@jupyter-widgets/controls",
      "model_module_version": "1.5.0",
      "model_name": "ProgressStyleModel",
      "state": {
       "description_width": ""
      }
     },
     "8832da6a13954f3db6c07a3a74db5a85": {
      "model_module": "@jupyter-widgets/base",
      "model_module_version": "1.2.0",
      "model_name": "LayoutModel",
      "state": {}
     },
     "88382710110048a1bbeaff425e799e2b": {
      "model_module": "@jupyter-widgets/controls",
      "model_module_version": "1.5.0",
      "model_name": "HBoxModel",
      "state": {
       "children": [
        "IPY_MODEL_87ce19af3e6b436e8b1b583987e37b5a",
        "IPY_MODEL_ef531ef418dc4dd8880a80bd655e7ee4"
       ],
       "layout": "IPY_MODEL_479b2c5213004b788d698f50e11df5e9"
      }
     },
     "89133c7156d54bb8a3148aa52bbb3f73": {
      "model_module": "@jupyter-widgets/base",
      "model_module_version": "1.2.0",
      "model_name": "LayoutModel",
      "state": {}
     },
     "89408d092f294ec099d1faf015c6f6c3": {
      "model_module": "@jupyter-widgets/controls",
      "model_module_version": "1.5.0",
      "model_name": "IntProgressModel",
      "state": {
       "bar_style": "success",
       "layout": "IPY_MODEL_e950347da287415db93e99f56ab06ccc",
       "max": 10,
       "style": "IPY_MODEL_ac40841e3e83444487a6094e1c6fbaa7",
       "value": 10
      }
     },
     "8af1fa139cf24377b97f4af35cd74871": {
      "model_module": "@jupyter-widgets/base",
      "model_module_version": "1.2.0",
      "model_name": "LayoutModel",
      "state": {}
     },
     "8c559cd32d8c4d96b8d33ca654ec48d1": {
      "model_module": "@jupyter-widgets/base",
      "model_module_version": "1.2.0",
      "model_name": "LayoutModel",
      "state": {}
     },
     "8d4ef1b841144163967ea961049f5cf8": {
      "model_module": "@jupyter-widgets/controls",
      "model_module_version": "1.5.0",
      "model_name": "ProgressStyleModel",
      "state": {
       "description_width": ""
      }
     },
     "8d7768f96ab44588b332c91204540707": {
      "model_module": "@jupyter-widgets/base",
      "model_module_version": "1.2.0",
      "model_name": "LayoutModel",
      "state": {}
     },
     "8edb02b5360b4f28b929ca9dc27fc996": {
      "model_module": "@jupyter-widgets/controls",
      "model_module_version": "1.5.0",
      "model_name": "HBoxModel",
      "state": {
       "children": [
        "IPY_MODEL_a835cb0b7d73409fb12bce120a13ccec",
        "IPY_MODEL_bc2d4c385bbf41f79ed02060152367f0"
       ],
       "layout": "IPY_MODEL_10452c783be043d18c14dd30284246a2"
      }
     },
     "90a3ab11a19440d5830174cb2fcb28d2": {
      "model_module": "@jupyter-widgets/controls",
      "model_module_version": "1.5.0",
      "model_name": "HBoxModel",
      "state": {
       "children": [
        "IPY_MODEL_374a15af452341d89e7e5d4d530afdd4",
        "IPY_MODEL_52fea7352e9e41dc88ea92581ed7712e"
       ],
       "layout": "IPY_MODEL_7f5e62f00dae4d71a074cb7718134e92"
      }
     },
     "9147858e63c948989138d173ed9dc3bc": {
      "model_module": "@jupyter-widgets/controls",
      "model_module_version": "1.5.0",
      "model_name": "HBoxModel",
      "state": {
       "children": [
        "IPY_MODEL_213df753eece4ee1a3e1dfda246c603a",
        "IPY_MODEL_e9a0ee93c6684453960ffc91e2594e6a"
       ],
       "layout": "IPY_MODEL_f88f1ccbfee04d95899d60f4172c903e"
      }
     },
     "918a139a636f4dd69aa1b127f390a603": {
      "model_module": "@jupyter-widgets/base",
      "model_module_version": "1.2.0",
      "model_name": "LayoutModel",
      "state": {}
     },
     "964a389cffa24643ab95069368d1ab90": {
      "model_module": "@jupyter-widgets/controls",
      "model_module_version": "1.5.0",
      "model_name": "IntProgressModel",
      "state": {
       "bar_style": "success",
       "layout": "IPY_MODEL_ac9585322c63412da56520ab0d45bd2c",
       "max": 10,
       "style": "IPY_MODEL_f80d5134dc194a4abee217b40545bcfe",
       "value": 10
      }
     },
     "97b560b7963f4aa2bf725b3ab25a8edf": {
      "model_module": "@jupyter-widgets/controls",
      "model_module_version": "1.5.0",
      "model_name": "DescriptionStyleModel",
      "state": {
       "description_width": ""
      }
     },
     "9812a9c72e6241f1acf25b3a84647aea": {
      "model_module": "@jupyter-widgets/controls",
      "model_module_version": "1.5.0",
      "model_name": "HTMLModel",
      "state": {
       "layout": "IPY_MODEL_918a139a636f4dd69aa1b127f390a603",
       "style": "IPY_MODEL_0bb657684b3242e896c183be772cbb86",
       "value": "100% 6/6 [34:35&lt;00:00, 535.03s/it]"
      }
     },
     "9b6bb17061f44cfeb922a73dc95dc653": {
      "model_module": "@jupyter-widgets/controls",
      "model_module_version": "1.5.0",
      "model_name": "IntProgressModel",
      "state": {
       "bar_style": "success",
       "layout": "IPY_MODEL_719256fd052146af9cac304894d3d386",
       "max": 10,
       "style": "IPY_MODEL_548e6d06249145c5b02ff3184bf864bd",
       "value": 10
      }
     },
     "9d1f34992ee44e7e8dc1854ef3115b2a": {
      "model_module": "@jupyter-widgets/controls",
      "model_module_version": "1.5.0",
      "model_name": "ProgressStyleModel",
      "state": {
       "description_width": ""
      }
     },
     "9dfb00ac59024a01a3fbcbc2abbf79dd": {
      "model_module": "@jupyter-widgets/controls",
      "model_module_version": "1.5.0",
      "model_name": "DescriptionStyleModel",
      "state": {
       "description_width": ""
      }
     },
     "9e511455cd6a498da84c539f356c121d": {
      "model_module": "@jupyter-widgets/controls",
      "model_module_version": "1.5.0",
      "model_name": "HBoxModel",
      "state": {
       "children": [
        "IPY_MODEL_e5dd587ae38741c981e0f609b6c9cda9",
        "IPY_MODEL_53e3237ae3d34b5c9f203a04e5fe0d00"
       ],
       "layout": "IPY_MODEL_c058a0380a7e4c04b4661901237e5d10"
      }
     },
     "9ef1e0f69f2c46888794cfe84c3eb989": {
      "model_module": "@jupyter-widgets/controls",
      "model_module_version": "1.5.0",
      "model_name": "DescriptionStyleModel",
      "state": {
       "description_width": ""
      }
     },
     "a0fa893d70ad4348becd43f65ae80035": {
      "model_module": "@jupyter-widgets/controls",
      "model_module_version": "1.5.0",
      "model_name": "HBoxModel",
      "state": {
       "children": [
        "IPY_MODEL_0c29a4bf376f43318e5615953505c0fe",
        "IPY_MODEL_834f78f914d84ebf8b744859c30677f6"
       ],
       "layout": "IPY_MODEL_8832da6a13954f3db6c07a3a74db5a85"
      }
     },
     "a192ad81c9ae47aab433093f4fb0abcf": {
      "model_module": "@jupyter-widgets/base",
      "model_module_version": "1.2.0",
      "model_name": "LayoutModel",
      "state": {}
     },
     "a1b32c6dd2bf49bbba8c9cf5c382dcd6": {
      "model_module": "@jupyter-widgets/controls",
      "model_module_version": "1.5.0",
      "model_name": "IntProgressModel",
      "state": {
       "bar_style": "success",
       "layout": "IPY_MODEL_2b962187a3a647a28979b62a2757a08c",
       "max": 6,
       "style": "IPY_MODEL_882d2ea4ecf943b3ab50b1ce656c6aad",
       "value": 6
      }
     },
     "a2b80656b3a348068d3805ddf8b9ab05": {
      "model_module": "@jupyter-widgets/controls",
      "model_module_version": "1.5.0",
      "model_name": "ProgressStyleModel",
      "state": {
       "description_width": ""
      }
     },
     "a466323da3f44f5b8b1e670d766c6054": {
      "model_module": "@jupyter-widgets/base",
      "model_module_version": "1.2.0",
      "model_name": "LayoutModel",
      "state": {}
     },
     "a4986d11b6c243d0882eb4133499233c": {
      "model_module": "@jupyter-widgets/base",
      "model_module_version": "1.2.0",
      "model_name": "LayoutModel",
      "state": {}
     },
     "a49beb64addb4f61b772b9ffb9df4042": {
      "model_module": "@jupyter-widgets/controls",
      "model_module_version": "1.5.0",
      "model_name": "ProgressStyleModel",
      "state": {
       "description_width": ""
      }
     },
     "a623c4d5078b476196c998d01901e134": {
      "model_module": "@jupyter-widgets/controls",
      "model_module_version": "1.5.0",
      "model_name": "HBoxModel",
      "state": {
       "children": [
        "IPY_MODEL_9b6bb17061f44cfeb922a73dc95dc653",
        "IPY_MODEL_e3ec09fb7a5841c8812f51cc06e046b3"
       ],
       "layout": "IPY_MODEL_b08f1a6c897c4a92ad47869c9f8e0f16"
      }
     },
     "a6920d0daca248e69d5a9ed1aed4ac0d": {
      "model_module": "@jupyter-widgets/controls",
      "model_module_version": "1.5.0",
      "model_name": "ProgressStyleModel",
      "state": {
       "description_width": ""
      }
     },
     "a6ce0eae261c4703b70dd79178aa4522": {
      "model_module": "@jupyter-widgets/controls",
      "model_module_version": "1.5.0",
      "model_name": "HTMLModel",
      "state": {
       "layout": "IPY_MODEL_bc468b0728b240eead6638ad58cfbb13",
       "style": "IPY_MODEL_ee8d520430b445b99d1149e3d0f1df4a",
       "value": " 70% 7/10 [00:57&lt;00:23,  7.70s/it]"
      }
     },
     "a835cb0b7d73409fb12bce120a13ccec": {
      "model_module": "@jupyter-widgets/controls",
      "model_module_version": "1.5.0",
      "model_name": "IntProgressModel",
      "state": {
       "bar_style": "success",
       "layout": "IPY_MODEL_caa4236bf43c44f6b3f928d382ea4cc0",
       "max": 10,
       "style": "IPY_MODEL_2c3d802e0f3b4f6dbf9a5fdfe8047c1e",
       "value": 10
      }
     },
     "a89fc92942664ab5b3a8476aa1bfea13": {
      "model_module": "@jupyter-widgets/controls",
      "model_module_version": "1.5.0",
      "model_name": "HTMLModel",
      "state": {
       "layout": "IPY_MODEL_3e98f1ff8e6e43e9bd4ac7374f4417e5",
       "style": "IPY_MODEL_5c23add5f25d483f86089cb45cb0ef5c",
       "value": "100% 6/6 [06:56&lt;00:00, 76.22s/it]"
      }
     },
     "a94a9c3c5ff448f0b4ebba9e9bdfba23": {
      "model_module": "@jupyter-widgets/controls",
      "model_module_version": "1.5.0",
      "model_name": "HBoxModel",
      "state": {
       "children": [
        "IPY_MODEL_c5106dd4e1ff430dacd7172baba583e1",
        "IPY_MODEL_005e5d0e85f64fafa0eb6551130b3615"
       ],
       "layout": "IPY_MODEL_248be6b629d44c7f9af1776b5c357e05"
      }
     },
     "a97087680ee6499f9bafcd6a4b2a83e5": {
      "model_module": "@jupyter-widgets/controls",
      "model_module_version": "1.5.0",
      "model_name": "IntProgressModel",
      "state": {
       "bar_style": "success",
       "layout": "IPY_MODEL_e63c94e232dd4b39ac24daa04cd8f742",
       "max": 10,
       "style": "IPY_MODEL_5541acf01ee5492487d14f9bbb152f87",
       "value": 10
      }
     },
     "a9f59dbe2f5c447bb8f01e6654821b10": {
      "model_module": "@jupyter-widgets/controls",
      "model_module_version": "1.5.0",
      "model_name": "ProgressStyleModel",
      "state": {
       "description_width": ""
      }
     },
     "aa6f350d3b0c491fbac6ddeaa04ea5bb": {
      "model_module": "@jupyter-widgets/controls",
      "model_module_version": "1.5.0",
      "model_name": "DescriptionStyleModel",
      "state": {
       "description_width": ""
      }
     },
     "ab51ec6deb4b448babcc45ef0ca3f64a": {
      "model_module": "@jupyter-widgets/controls",
      "model_module_version": "1.5.0",
      "model_name": "HTMLModel",
      "state": {
       "layout": "IPY_MODEL_748d90054e9c41019fafc771ee333e02",
       "style": "IPY_MODEL_151614ab6c014eab8168642993fa4da6",
       "value": "100% 10/10 [00:01&lt;00:00,  7.57it/s]"
      }
     },
     "ac40841e3e83444487a6094e1c6fbaa7": {
      "model_module": "@jupyter-widgets/controls",
      "model_module_version": "1.5.0",
      "model_name": "ProgressStyleModel",
      "state": {
       "description_width": ""
      }
     },
     "ac9585322c63412da56520ab0d45bd2c": {
      "model_module": "@jupyter-widgets/base",
      "model_module_version": "1.2.0",
      "model_name": "LayoutModel",
      "state": {}
     },
     "ad8a035274a545ebb96953afdf209e34": {
      "model_module": "@jupyter-widgets/controls",
      "model_module_version": "1.5.0",
      "model_name": "ProgressStyleModel",
      "state": {
       "description_width": ""
      }
     },
     "ae1c3601a11641b48666616d96d84133": {
      "model_module": "@jupyter-widgets/controls",
      "model_module_version": "1.5.0",
      "model_name": "ProgressStyleModel",
      "state": {
       "description_width": ""
      }
     },
     "af5c948bdf99499881986dc4a2329838": {
      "model_module": "@jupyter-widgets/controls",
      "model_module_version": "1.5.0",
      "model_name": "HTMLModel",
      "state": {
       "layout": "IPY_MODEL_4a16dc0bcaea42db8c99125e07af2d3d",
       "style": "IPY_MODEL_3580a57778bd433ab4531edae820219f",
       "value": "100% 10/10 [03:54&lt;00:00, 28.37s/it]"
      }
     },
     "b08f1a6c897c4a92ad47869c9f8e0f16": {
      "model_module": "@jupyter-widgets/base",
      "model_module_version": "1.2.0",
      "model_name": "LayoutModel",
      "state": {}
     },
     "b1e5e20e70144196a151e614f5befd70": {
      "model_module": "@jupyter-widgets/controls",
      "model_module_version": "1.5.0",
      "model_name": "DescriptionStyleModel",
      "state": {
       "description_width": ""
      }
     },
     "b32729e4376f4acab8dcd0455600325f": {
      "model_module": "@jupyter-widgets/controls",
      "model_module_version": "1.5.0",
      "model_name": "DescriptionStyleModel",
      "state": {
       "description_width": ""
      }
     },
     "b433a321548c4be6b347c46c9115e6c0": {
      "model_module": "@jupyter-widgets/controls",
      "model_module_version": "1.5.0",
      "model_name": "HBoxModel",
      "state": {
       "children": [
        "IPY_MODEL_f5eff85d3ff74265b4c752852fea703c",
        "IPY_MODEL_58f029f90555498697991d591a8d9fd5"
       ],
       "layout": "IPY_MODEL_0d22b7010a104aa88ee9b8433decc418"
      }
     },
     "b446ff2a83bc42d39734236385191598": {
      "model_module": "@jupyter-widgets/controls",
      "model_module_version": "1.5.0",
      "model_name": "HBoxModel",
      "state": {
       "children": [
        "IPY_MODEL_d2368738494c41aa8533d96fa3c07c1f",
        "IPY_MODEL_33f4695f8e1d4306a9795f4cf6619011"
       ],
       "layout": "IPY_MODEL_a4986d11b6c243d0882eb4133499233c"
      }
     },
     "b51dbede4d1748d9aa547a2bc7bf62a1": {
      "model_module": "@jupyter-widgets/controls",
      "model_module_version": "1.5.0",
      "model_name": "IntProgressModel",
      "state": {
       "bar_style": "success",
       "layout": "IPY_MODEL_538366fcaa4a48d6a4d6dc8500c4466a",
       "max": 7,
       "style": "IPY_MODEL_13354667221e4144a695425358252630",
       "value": 7
      }
     },
     "b6f6bb4766084c298ef3d072e3e02ada": {
      "model_module": "@jupyter-widgets/base",
      "model_module_version": "1.2.0",
      "model_name": "LayoutModel",
      "state": {}
     },
     "b89bb1c8d47b4c3e83fee2a5d5cb2fb5": {
      "model_module": "@jupyter-widgets/base",
      "model_module_version": "1.2.0",
      "model_name": "LayoutModel",
      "state": {}
     },
     "b8d6cfc309fe44cd873d8ef2c16d738e": {
      "model_module": "@jupyter-widgets/controls",
      "model_module_version": "1.5.0",
      "model_name": "HTMLModel",
      "state": {
       "layout": "IPY_MODEL_b89bb1c8d47b4c3e83fee2a5d5cb2fb5",
       "style": "IPY_MODEL_6c826c0614ed4dfca3e81592135dd52e",
       "value": " 43% 3/7 [02:10&lt;02:47, 41.87s/it]"
      }
     },
     "b9830e5f5d6d49c187fdf364e68f8523": {
      "model_module": "@jupyter-widgets/controls",
      "model_module_version": "1.5.0",
      "model_name": "HTMLModel",
      "state": {
       "layout": "IPY_MODEL_688c7068b70544ad825bf25f79122833",
       "style": "IPY_MODEL_b32729e4376f4acab8dcd0455600325f",
       "value": "100% 6/6 [06:57&lt;00:00, 76.20s/it]"
      }
     },
     "ba0c254d900b4038b5c7565fb4c1f2b3": {
      "model_module": "@jupyter-widgets/controls",
      "model_module_version": "1.5.0",
      "model_name": "HTMLModel",
      "state": {
       "layout": "IPY_MODEL_153ae3b1b8154f56acb047dab5e25e86",
       "style": "IPY_MODEL_26c458d2888147e8888b6773881d3bce",
       "value": "100% 10/10 [00:16&lt;00:00,  3.52s/it]"
      }
     },
     "ba6afbf9e5904bedb0fbad8e7ac3d143": {
      "model_module": "@jupyter-widgets/base",
      "model_module_version": "1.2.0",
      "model_name": "LayoutModel",
      "state": {}
     },
     "bc2d4c385bbf41f79ed02060152367f0": {
      "model_module": "@jupyter-widgets/controls",
      "model_module_version": "1.5.0",
      "model_name": "HTMLModel",
      "state": {
       "layout": "IPY_MODEL_244940844d76428ab8bb6229c827d4f7",
       "style": "IPY_MODEL_80e9a7510aad4f6cb5f728ec706ff857",
       "value": "100% 10/10 [00:01&lt;00:00,  6.36it/s]"
      }
     },
     "bc468b0728b240eead6638ad58cfbb13": {
      "model_module": "@jupyter-widgets/base",
      "model_module_version": "1.2.0",
      "model_name": "LayoutModel",
      "state": {}
     },
     "bd35447505b047f4944defdf98aef13d": {
      "model_module": "@jupyter-widgets/base",
      "model_module_version": "1.2.0",
      "model_name": "LayoutModel",
      "state": {}
     },
     "be184f73e864417ab86c6f16b3a5b243": {
      "model_module": "@jupyter-widgets/controls",
      "model_module_version": "1.5.0",
      "model_name": "DescriptionStyleModel",
      "state": {
       "description_width": ""
      }
     },
     "be894000da8f421da2d17e2d9ecc4ae7": {
      "model_module": "@jupyter-widgets/base",
      "model_module_version": "1.2.0",
      "model_name": "LayoutModel",
      "state": {}
     },
     "c058a0380a7e4c04b4661901237e5d10": {
      "model_module": "@jupyter-widgets/base",
      "model_module_version": "1.2.0",
      "model_name": "LayoutModel",
      "state": {}
     },
     "c21d066c1e704015912ed65fb8c1292f": {
      "model_module": "@jupyter-widgets/controls",
      "model_module_version": "1.5.0",
      "model_name": "HBoxModel",
      "state": {
       "children": [
        "IPY_MODEL_276887d04cd24d5f9592bcf4161e791d",
        "IPY_MODEL_ba0c254d900b4038b5c7565fb4c1f2b3"
       ],
       "layout": "IPY_MODEL_3f104d10712f4f14beb89e90d5fe6ba7"
      }
     },
     "c2718fe127a44159b6b388762fd2fe4b": {
      "model_module": "@jupyter-widgets/controls",
      "model_module_version": "1.5.0",
      "model_name": "DescriptionStyleModel",
      "state": {
       "description_width": ""
      }
     },
     "c4d0a9b6a437497cbf7259313636ce38": {
      "model_module": "@jupyter-widgets/base",
      "model_module_version": "1.2.0",
      "model_name": "LayoutModel",
      "state": {}
     },
     "c5106dd4e1ff430dacd7172baba583e1": {
      "model_module": "@jupyter-widgets/controls",
      "model_module_version": "1.5.0",
      "model_name": "IntProgressModel",
      "state": {
       "bar_style": "success",
       "layout": "IPY_MODEL_3ce5ddd008a445498b2b7454bd69e747",
       "max": 10,
       "style": "IPY_MODEL_827d1a3d1df04197b5defc47c30e5c26",
       "value": 10
      }
     },
     "c7eb23bf21454e54b5a8084cbfee94f5": {
      "model_module": "@jupyter-widgets/controls",
      "model_module_version": "1.5.0",
      "model_name": "HTMLModel",
      "state": {
       "layout": "IPY_MODEL_a466323da3f44f5b8b1e670d766c6054",
       "style": "IPY_MODEL_c81eaa14cbe2468cac3c742875aea4aa",
       "value": "100% 10/10 [00:02&lt;00:00,  2.50it/s]"
      }
     },
     "c7fe6d63720e449bae3ee9a97d288e9e": {
      "model_module": "@jupyter-widgets/base",
      "model_module_version": "1.2.0",
      "model_name": "LayoutModel",
      "state": {}
     },
     "c81eaa14cbe2468cac3c742875aea4aa": {
      "model_module": "@jupyter-widgets/controls",
      "model_module_version": "1.5.0",
      "model_name": "DescriptionStyleModel",
      "state": {
       "description_width": ""
      }
     },
     "caa4236bf43c44f6b3f928d382ea4cc0": {
      "model_module": "@jupyter-widgets/base",
      "model_module_version": "1.2.0",
      "model_name": "LayoutModel",
      "state": {}
     },
     "cae399f69e654949ae13403cc33c0238": {
      "model_module": "@jupyter-widgets/controls",
      "model_module_version": "1.5.0",
      "model_name": "HTMLModel",
      "state": {
       "layout": "IPY_MODEL_f561058bca2d49148d75e40ee19f2baa",
       "style": "IPY_MODEL_be184f73e864417ab86c6f16b3a5b243",
       "value": "100% 10/10 [00:57&lt;00:00,  9.17s/it]"
      }
     },
     "cbd7f49feb7d444f9693feedc6401929": {
      "model_module": "@jupyter-widgets/controls",
      "model_module_version": "1.5.0",
      "model_name": "HTMLModel",
      "state": {
       "layout": "IPY_MODEL_71dcd793bcf54bd58bc2ef0af0064254",
       "style": "IPY_MODEL_29e13041e7d7417ca507ff4064590a99",
       "value": "100% 10/10 [00:01&lt;00:00,  5.49it/s]"
      }
     },
     "cd73a5758d9b40aa9196a583edff6a2d": {
      "model_module": "@jupyter-widgets/base",
      "model_module_version": "1.2.0",
      "model_name": "LayoutModel",
      "state": {}
     },
     "ce6ef5fecdc44569944cdda66e81f8e7": {
      "model_module": "@jupyter-widgets/controls",
      "model_module_version": "1.5.0",
      "model_name": "IntProgressModel",
      "state": {
       "bar_style": "success",
       "layout": "IPY_MODEL_0167998ee11f40c39e4ec27b1668e613",
       "max": 6,
       "style": "IPY_MODEL_e0d3aec5014c49ce9c95b247f098ba63",
       "value": 6
      }
     },
     "cfe38ba2f2374350b59c8aac4442497f": {
      "model_module": "@jupyter-widgets/controls",
      "model_module_version": "1.5.0",
      "model_name": "DescriptionStyleModel",
      "state": {
       "description_width": ""
      }
     },
     "d14cd9a44f6741fea9eef3c95b78625d": {
      "model_module": "@jupyter-widgets/controls",
      "model_module_version": "1.5.0",
      "model_name": "IntProgressModel",
      "state": {
       "bar_style": "success",
       "layout": "IPY_MODEL_47bacbcfbbe84e089e351f9c8d3c29e0",
       "max": 6,
       "style": "IPY_MODEL_45bc260e8faf4a65a0accfcb598e3d32",
       "value": 6
      }
     },
     "d2368738494c41aa8533d96fa3c07c1f": {
      "model_module": "@jupyter-widgets/controls",
      "model_module_version": "1.5.0",
      "model_name": "IntProgressModel",
      "state": {
       "bar_style": "success",
       "layout": "IPY_MODEL_14f5950904f64102ae423450f2c677bd",
       "max": 10,
       "style": "IPY_MODEL_a6920d0daca248e69d5a9ed1aed4ac0d",
       "value": 10
      }
     },
     "d45140ff324942679dc8ba27c40f9821": {
      "model_module": "@jupyter-widgets/controls",
      "model_module_version": "1.5.0",
      "model_name": "DescriptionStyleModel",
      "state": {
       "description_width": ""
      }
     },
     "d47c01f8250e4d92801b98bec62bad2c": {
      "model_module": "@jupyter-widgets/base",
      "model_module_version": "1.2.0",
      "model_name": "LayoutModel",
      "state": {}
     },
     "d4b7e94ff50142948452c81d30514985": {
      "model_module": "@jupyter-widgets/controls",
      "model_module_version": "1.5.0",
      "model_name": "IntProgressModel",
      "state": {
       "bar_style": "success",
       "layout": "IPY_MODEL_ba6afbf9e5904bedb0fbad8e7ac3d143",
       "max": 10,
       "style": "IPY_MODEL_48553bd7b5cb4139b353c1327d266fa7",
       "value": 10
      }
     },
     "d4f10e2f485f4891913cc1d52c369db0": {
      "model_module": "@jupyter-widgets/controls",
      "model_module_version": "1.5.0",
      "model_name": "ProgressStyleModel",
      "state": {
       "description_width": ""
      }
     },
     "d7fdbd26a27c4251b2e6340fbd7c7d6d": {
      "model_module": "@jupyter-widgets/controls",
      "model_module_version": "1.5.0",
      "model_name": "HTMLModel",
      "state": {
       "layout": "IPY_MODEL_b6f6bb4766084c298ef3d072e3e02ada",
       "style": "IPY_MODEL_c2718fe127a44159b6b388762fd2fe4b",
       "value": "100% 7/7 [02:13&lt;00:00, 31.06s/it]"
      }
     },
     "d81d6554f2114ca0a057cd1d40f8835e": {
      "model_module": "@jupyter-widgets/controls",
      "model_module_version": "1.5.0",
      "model_name": "IntProgressModel",
      "state": {
       "bar_style": "danger",
       "layout": "IPY_MODEL_bd35447505b047f4944defdf98aef13d",
       "max": 6,
       "style": "IPY_MODEL_a49beb64addb4f61b772b9ffb9df4042",
       "value": 5
      }
     },
     "d824e4396742453eaf9619a70bf0119e": {
      "model_module": "@jupyter-widgets/controls",
      "model_module_version": "1.5.0",
      "model_name": "HBoxModel",
      "state": {
       "children": [
        "IPY_MODEL_f487528b9e7a4468b96e8198dfebf09f",
        "IPY_MODEL_3f08a8f3877942e196648cdae7c5276f"
       ],
       "layout": "IPY_MODEL_f8937416eea741fcb1d3fee2d2d68740"
      }
     },
     "d834752cd62e4cae9bb8d3013943f3a2": {
      "model_module": "@jupyter-widgets/base",
      "model_module_version": "1.2.0",
      "model_name": "LayoutModel",
      "state": {}
     },
     "d8693c341bab425f8155505214eb6d7a": {
      "model_module": "@jupyter-widgets/controls",
      "model_module_version": "1.5.0",
      "model_name": "DescriptionStyleModel",
      "state": {
       "description_width": ""
      }
     },
     "d91a11461a084e3ba66fc495849ade10": {
      "model_module": "@jupyter-widgets/controls",
      "model_module_version": "1.5.0",
      "model_name": "HTMLModel",
      "state": {
       "layout": "IPY_MODEL_d47c01f8250e4d92801b98bec62bad2c",
       "style": "IPY_MODEL_d8693c341bab425f8155505214eb6d7a",
       "value": "100% 10/10 [00:17&lt;00:00,  3.64s/it]"
      }
     },
     "d98630fcf42a472da4021ea7462e064a": {
      "model_module": "@jupyter-widgets/controls",
      "model_module_version": "1.5.0",
      "model_name": "DescriptionStyleModel",
      "state": {
       "description_width": ""
      }
     },
     "da9df59e31fe492db65a6b7f09eb47a0": {
      "model_module": "@jupyter-widgets/base",
      "model_module_version": "1.2.0",
      "model_name": "LayoutModel",
      "state": {}
     },
     "dae99990c9754c79b14dcddd9633720f": {
      "model_module": "@jupyter-widgets/base",
      "model_module_version": "1.2.0",
      "model_name": "LayoutModel",
      "state": {}
     },
     "db1fc733dac646488ced636a0f5bdfbc": {
      "model_module": "@jupyter-widgets/controls",
      "model_module_version": "1.5.0",
      "model_name": "HBoxModel",
      "state": {
       "children": [
        "IPY_MODEL_74b6f5e2f7f64b49adabeb0483b25ab2",
        "IPY_MODEL_f7e0c12289d942839e514f4b4090ceae"
       ],
       "layout": "IPY_MODEL_14a3d912d7d44e209e9bc6fc168113c4"
      }
     },
     "dc504ae10b5342099f2d6635cd10b3b3": {
      "model_module": "@jupyter-widgets/base",
      "model_module_version": "1.2.0",
      "model_name": "LayoutModel",
      "state": {}
     },
     "dd0b9cf93b6d4df0bfa6a6ec1cf53583": {
      "model_module": "@jupyter-widgets/controls",
      "model_module_version": "1.5.0",
      "model_name": "ProgressStyleModel",
      "state": {
       "description_width": ""
      }
     },
     "e09a8211fd574015bb381d45ddde2455": {
      "model_module": "@jupyter-widgets/controls",
      "model_module_version": "1.5.0",
      "model_name": "ProgressStyleModel",
      "state": {
       "description_width": ""
      }
     },
     "e0d3aec5014c49ce9c95b247f098ba63": {
      "model_module": "@jupyter-widgets/controls",
      "model_module_version": "1.5.0",
      "model_name": "ProgressStyleModel",
      "state": {
       "description_width": ""
      }
     },
     "e106b6667559465daf5ca29e5c5d1c9d": {
      "model_module": "@jupyter-widgets/controls",
      "model_module_version": "1.5.0",
      "model_name": "HTMLModel",
      "state": {
       "layout": "IPY_MODEL_7338096af56f4f1684b91eb4f121335a",
       "style": "IPY_MODEL_d45140ff324942679dc8ba27c40f9821",
       "value": " 83% 5/6 [00:20&lt;00:04,  4.51s/it]"
      }
     },
     "e1dce80901c745339c745486ea8fe230": {
      "model_module": "@jupyter-widgets/controls",
      "model_module_version": "1.5.0",
      "model_name": "ProgressStyleModel",
      "state": {
       "description_width": ""
      }
     },
     "e3ec09fb7a5841c8812f51cc06e046b3": {
      "model_module": "@jupyter-widgets/controls",
      "model_module_version": "1.5.0",
      "model_name": "HTMLModel",
      "state": {
       "layout": "IPY_MODEL_278c6b56ea1947dbb6dc0c8c4f5fa4a3",
       "style": "IPY_MODEL_97b560b7963f4aa2bf725b3ab25a8edf",
       "value": "100% 10/10 [00:01&lt;00:00,  6.90it/s]"
      }
     },
     "e5dd587ae38741c981e0f609b6c9cda9": {
      "model_module": "@jupyter-widgets/controls",
      "model_module_version": "1.5.0",
      "model_name": "IntProgressModel",
      "state": {
       "bar_style": "success",
       "layout": "IPY_MODEL_031b7d26a887446a80baaffaf6ce7c42",
       "max": 10,
       "style": "IPY_MODEL_7de961ca64b34113b22251ed9372370b",
       "value": 10
      }
     },
     "e63c94e232dd4b39ac24daa04cd8f742": {
      "model_module": "@jupyter-widgets/base",
      "model_module_version": "1.2.0",
      "model_name": "LayoutModel",
      "state": {}
     },
     "e73a9d1ee89e40119c9c3d9725e07756": {
      "model_module": "@jupyter-widgets/controls",
      "model_module_version": "1.5.0",
      "model_name": "DescriptionStyleModel",
      "state": {
       "description_width": ""
      }
     },
     "e7739d9979dc431da366ace6bfaeb112": {
      "model_module": "@jupyter-widgets/base",
      "model_module_version": "1.2.0",
      "model_name": "LayoutModel",
      "state": {}
     },
     "e88ed76162204f079604a4c4763a57c0": {
      "model_module": "@jupyter-widgets/base",
      "model_module_version": "1.2.0",
      "model_name": "LayoutModel",
      "state": {}
     },
     "e950347da287415db93e99f56ab06ccc": {
      "model_module": "@jupyter-widgets/base",
      "model_module_version": "1.2.0",
      "model_name": "LayoutModel",
      "state": {}
     },
     "e99cc1b7a4754a8dab97e5a9ffecf4ec": {
      "model_module": "@jupyter-widgets/base",
      "model_module_version": "1.2.0",
      "model_name": "LayoutModel",
      "state": {}
     },
     "e9a0ee93c6684453960ffc91e2594e6a": {
      "model_module": "@jupyter-widgets/controls",
      "model_module_version": "1.5.0",
      "model_name": "HTMLModel",
      "state": {
       "layout": "IPY_MODEL_1a1c23d3389f4cdc9185a61a00f86e85",
       "style": "IPY_MODEL_b1e5e20e70144196a151e614f5befd70",
       "value": "100% 6/6 [00:22&lt;00:00,  5.79s/it]"
      }
     },
     "ea5042c4dbb64c30b08dbd21747d8601": {
      "model_module": "@jupyter-widgets/base",
      "model_module_version": "1.2.0",
      "model_name": "LayoutModel",
      "state": {}
     },
     "eb4165135e4e491994d65aa6a9dd9d7b": {
      "model_module": "@jupyter-widgets/controls",
      "model_module_version": "1.5.0",
      "model_name": "DescriptionStyleModel",
      "state": {
       "description_width": ""
      }
     },
     "ec98c4e75b92472eaf168238ec0f9630": {
      "model_module": "@jupyter-widgets/controls",
      "model_module_version": "1.5.0",
      "model_name": "ProgressStyleModel",
      "state": {
       "description_width": ""
      }
     },
     "ee82855c6a7b4f66a6cb0461375f0ee9": {
      "model_module": "@jupyter-widgets/controls",
      "model_module_version": "1.5.0",
      "model_name": "ProgressStyleModel",
      "state": {
       "description_width": ""
      }
     },
     "ee8d520430b445b99d1149e3d0f1df4a": {
      "model_module": "@jupyter-widgets/controls",
      "model_module_version": "1.5.0",
      "model_name": "DescriptionStyleModel",
      "state": {
       "description_width": ""
      }
     },
     "ef531ef418dc4dd8880a80bd655e7ee4": {
      "model_module": "@jupyter-widgets/controls",
      "model_module_version": "1.5.0",
      "model_name": "HTMLModel",
      "state": {
       "layout": "IPY_MODEL_63ea9b88b6a841acaf81bb60656d63c9",
       "style": "IPY_MODEL_fc0c69e233184e85ad93f1c7ae85bac0",
       "value": "100% 10/10 [00:02&lt;00:00,  4.89it/s]"
      }
     },
     "f02142aef0bf4a31ad5e8808ca4a3c4d": {
      "model_module": "@jupyter-widgets/controls",
      "model_module_version": "1.5.0",
      "model_name": "IntProgressModel",
      "state": {
       "bar_style": "success",
       "layout": "IPY_MODEL_58ba8f1c6d9e4774b57830f55da8a9e1",
       "max": 10,
       "style": "IPY_MODEL_40796ce6eb02424da2f0be0ead8a2a51",
       "value": 10
      }
     },
     "f2d36472401d40a68df227a08e2588c9": {
      "model_module": "@jupyter-widgets/controls",
      "model_module_version": "1.5.0",
      "model_name": "DescriptionStyleModel",
      "state": {
       "description_width": ""
      }
     },
     "f335a2a1b36c4fb9ae298c5bae1b2fee": {
      "model_module": "@jupyter-widgets/base",
      "model_module_version": "1.2.0",
      "model_name": "LayoutModel",
      "state": {}
     },
     "f487528b9e7a4468b96e8198dfebf09f": {
      "model_module": "@jupyter-widgets/controls",
      "model_module_version": "1.5.0",
      "model_name": "IntProgressModel",
      "state": {
       "bar_style": "danger",
       "layout": "IPY_MODEL_8c559cd32d8c4d96b8d33ca654ec48d1",
       "max": 10,
       "style": "IPY_MODEL_ee82855c6a7b4f66a6cb0461375f0ee9",
       "value": 7
      }
     },
     "f561058bca2d49148d75e40ee19f2baa": {
      "model_module": "@jupyter-widgets/base",
      "model_module_version": "1.2.0",
      "model_name": "LayoutModel",
      "state": {}
     },
     "f5eff85d3ff74265b4c752852fea703c": {
      "model_module": "@jupyter-widgets/controls",
      "model_module_version": "1.5.0",
      "model_name": "IntProgressModel",
      "state": {
       "bar_style": "success",
       "layout": "IPY_MODEL_8d7768f96ab44588b332c91204540707",
       "max": 10,
       "style": "IPY_MODEL_a2b80656b3a348068d3805ddf8b9ab05",
       "value": 10
      }
     },
     "f7bbdcb5c08b44d1948f22cdb86b7228": {
      "model_module": "@jupyter-widgets/controls",
      "model_module_version": "1.5.0",
      "model_name": "IntProgressModel",
      "state": {
       "bar_style": "success",
       "layout": "IPY_MODEL_89133c7156d54bb8a3148aa52bbb3f73",
       "max": 10,
       "style": "IPY_MODEL_0016d62a1fe34cc29f3856598ea503df",
       "value": 10
      }
     },
     "f7e0c12289d942839e514f4b4090ceae": {
      "model_module": "@jupyter-widgets/controls",
      "model_module_version": "1.5.0",
      "model_name": "HTMLModel",
      "state": {
       "layout": "IPY_MODEL_0c572a6fca984a5888f9c6b97794b38c",
       "style": "IPY_MODEL_eb4165135e4e491994d65aa6a9dd9d7b",
       "value": " 50% 3/6 [00:07&lt;00:06,  2.26s/it]"
      }
     },
     "f80d5134dc194a4abee217b40545bcfe": {
      "model_module": "@jupyter-widgets/controls",
      "model_module_version": "1.5.0",
      "model_name": "ProgressStyleModel",
      "state": {
       "description_width": ""
      }
     },
     "f88f1ccbfee04d95899d60f4172c903e": {
      "model_module": "@jupyter-widgets/base",
      "model_module_version": "1.2.0",
      "model_name": "LayoutModel",
      "state": {}
     },
     "f8937416eea741fcb1d3fee2d2d68740": {
      "model_module": "@jupyter-widgets/base",
      "model_module_version": "1.2.0",
      "model_name": "LayoutModel",
      "state": {}
     },
     "f8e2b226c381486587ec3cb7a4e61e43": {
      "model_module": "@jupyter-widgets/controls",
      "model_module_version": "1.5.0",
      "model_name": "HBoxModel",
      "state": {
       "children": [
        "IPY_MODEL_05d6a05ae9e7454db4783fa4b019ace1",
        "IPY_MODEL_709d66aff8604c1eaf37baed426c4555"
       ],
       "layout": "IPY_MODEL_66e46bf08a6e42fd9cc9c8b5bce5925a"
      }
     },
     "f9938dbf4ac9457482d95bc7f443801d": {
      "model_module": "@jupyter-widgets/base",
      "model_module_version": "1.2.0",
      "model_name": "LayoutModel",
      "state": {}
     },
     "fc0c69e233184e85ad93f1c7ae85bac0": {
      "model_module": "@jupyter-widgets/controls",
      "model_module_version": "1.5.0",
      "model_name": "DescriptionStyleModel",
      "state": {
       "description_width": ""
      }
     }
    },
    "version_major": 2,
    "version_minor": 0
   }
  }
 },
 "nbformat": 4,
 "nbformat_minor": 2
}
